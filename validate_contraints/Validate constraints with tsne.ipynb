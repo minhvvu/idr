{
 "cells": [
  {
   "cell_type": "code",
   "execution_count": 56,
   "metadata": {
    "collapsed": true,
    "extensions": {
     "jupyter_dashboards": {
      "version": 1,
      "views": {
       "grid_default": {
        "hidden": true
       },
       "report_default": {
        "hidden": true
       }
      }
     }
    }
   },
   "outputs": [],
   "source": [
    "import numpy as np\n",
    "import pandas as pd\n",
    "import pickle\n",
    "\n",
    "data_folder = 'output_tsne'"
   ]
  },
  {
   "cell_type": "code",
   "execution_count": 57,
   "metadata": {
    "extensions": {
     "jupyter_dashboards": {
      "version": 1,
      "views": {
       "grid_default": {
        "col": 0,
        "height": 4,
        "hidden": true,
        "row": 0,
        "width": 4
       },
       "report_default": {
        "hidden": true
       }
      }
     }
    }
   },
   "outputs": [
    {
     "data": {
      "text/html": [
       "<script>requirejs.config({paths: { 'plotly': ['https://cdn.plot.ly/plotly-latest.min']},});if(!window.Plotly) {{require(['plotly'],function(plotly) {window.Plotly=plotly;});}}</script>"
      ],
      "text/vnd.plotly.v1+html": [
       "<script>requirejs.config({paths: { 'plotly': ['https://cdn.plot.ly/plotly-latest.min']},});if(!window.Plotly) {{require(['plotly'],function(plotly) {window.Plotly=plotly;});}}</script>"
      ]
     },
     "metadata": {},
     "output_type": "display_data"
    }
   ],
   "source": [
    "import plotly.plotly as py\n",
    "import plotly.graph_objs as go\n",
    "\n",
    "from plotly.offline import download_plotlyjs, init_notebook_mode, plot, iplot\n",
    "init_notebook_mode(connected=True)"
   ]
  },
  {
   "cell_type": "code",
   "execution_count": 58,
   "metadata": {
    "collapsed": true,
    "extensions": {
     "jupyter_dashboards": {
      "version": 1,
      "views": {
       "grid_default": {
        "hidden": true
       },
       "report_default": {
        "hidden": true
       }
      }
     }
    }
   },
   "outputs": [],
   "source": [
    "import ipywidgets as widgets\n",
    "from ipywidgets import interact, interactive_output"
   ]
  },
  {
   "cell_type": "code",
   "execution_count": 61,
   "metadata": {
    "collapsed": true,
    "extensions": {
     "jupyter_dashboards": {
      "version": 1,
      "views": {
       "grid_default": {
        "hidden": true
       },
       "report_default": {
        "hidden": true
       }
      }
     }
    }
   },
   "outputs": [],
   "source": [
    "def load_df(dataset_name):\n",
    "    if dataset_name == \"\": return None\n",
    "    \n",
    "    in_name = '{}/tsne_{}.pkl'.format(data_folder, dataset_name)\n",
    "    pkl_data = pickle.load(open(in_name, 'rb'))\n",
    "    embeddeds = pkl_data['results']\n",
    "    df = pd.DataFrame.from_records(embeddeds, exclude=[\"embedding\"])\n",
    "    return df\n",
    "\n",
    "# global dataframe\n",
    "g_df = load_df('MNIST-SMALL')"
   ]
  },
  {
   "cell_type": "code",
   "execution_count": 62,
   "metadata": {
    "collapsed": true,
    "extensions": {
     "jupyter_dashboards": {
      "version": 1,
      "views": {
       "grid_default": {
        "col": 0,
        "height": 4,
        "hidden": true,
        "row": 0,
        "width": 4
       },
       "report_default": {
        "hidden": true
       }
      }
     }
    }
   },
   "outputs": [],
   "source": [
    "def _plot_surface(pivot_data, z_title='', chart_title=''):\n",
    "    perps = pivot_data.columns\n",
    "    lrs = pivot_data.transpose().columns\n",
    "    data = [\n",
    "        go.Surface(\n",
    "            x = perps,\n",
    "            y = lrs,\n",
    "            z=pivot_data.as_matrix(),\n",
    "        )\n",
    "    ]\n",
    "    layout = go.Layout(\n",
    "        title=chart_title,\n",
    "        autosize=True,\n",
    "        width=800,\n",
    "        height=800,\n",
    "        margin=dict(\n",
    "            l=65,\n",
    "            r=50,\n",
    "            b=65,\n",
    "            t=90\n",
    "        ),\n",
    "        scene = dict(\n",
    "            xaxis = dict(\n",
    "                title='Perplexity'),\n",
    "            yaxis = dict(\n",
    "                title='Learning rate'),\n",
    "            zaxis = dict(\n",
    "                title=z_title),)   \n",
    "    )\n",
    "    fig = go.Figure(data=data, layout=layout)\n",
    "    iplot(fig)"
   ]
  },
  {
   "cell_type": "code",
   "execution_count": 69,
   "metadata": {
    "collapsed": true,
    "extensions": {
     "jupyter_dashboards": {
      "version": 1,
      "views": {
       "grid_default": {
        "hidden": true
       },
       "report_default": {
        "hidden": true
       }
      }
     }
    }
   },
   "outputs": [],
   "source": [
    "def _plot_lines_by_key(key_name, key_val, use_log_x, use_log_y, show_inverse, show_neg):\n",
    "    global g_df\n",
    "    if g_df is None: return\n",
    "    \n",
    "    if key_name == 'perplexity':\n",
    "        df_by_key = g_df[g_df[key_name]==key_val]\n",
    "        x_data = np.log(df_by_key['learning_rate']) if use_log_x else df_by_key['learning_rate']\n",
    "    else: # learning_rate\n",
    "        df_by_key = g_df[g_df[key_name]==key_val]\n",
    "        x_data = np.log(df_by_key['perplexity']) if use_log_x else df_by_key['perplexity']\n",
    "    \n",
    "    # customized functions that can be applied onto the y-values\n",
    "    _inverse = lambda y: np.divide(1.0, y, out=np.zeros_like(y), where=(y != 0))\n",
    "    _negative = lambda y: -y\n",
    "    \n",
    "    line_names = [\n",
    "        # (line_name, display_name, show_by_default, can_modify)\n",
    "        ('q_link', '[] -log(links) in low dim.', True, False),\n",
    "        ('p_link', '[] -log(links) in high dim.', False, False),\n",
    "        ('loss', '[] KL loss', True, False),\n",
    "        ('auc_rnx', '[*] logRNX', True, True),\n",
    "        ('cca_stress', '[*] CCA Stress', False, True),\n",
    "        ('mds_isotonic', '[*] MDS Stress', False, True),\n",
    "        ('pearsonr', '[*] Corr. Coef.', True, True),\n",
    "        ('sammon_nlm', '[*] Sammon NLM', True, True)\n",
    "    ]\n",
    "    \n",
    "    plot_data = []\n",
    "    for line_name, display_name, show_by_default, can_modify in line_names:\n",
    "        y = df_by_key[line_name]\n",
    "        y_data = np.log(y) if use_log_y else y\n",
    "        if can_modify:\n",
    "            if show_inverse: y_data = _inverse(y_data)\n",
    "            if show_neg: y_data = _negative(y_data)\n",
    "            \n",
    "        trace_i = go.Scatter(\n",
    "            x = x_data,\n",
    "            y = y_data,\n",
    "            name = display_name,\n",
    "            mode = 'lines+markers',\n",
    "            line = {'shape': 'spline'},\n",
    "            visible= '' if show_by_default else 'legendonly'\n",
    "        )\n",
    "        plot_data.append(trace_i)\n",
    "    \n",
    "    \n",
    "    layout = dict(title = 'Metric values / NLL [{}  = {}]'.format(key_name, key_val),\n",
    "      xaxis = dict(title = '{} {}'.format(\n",
    "          'Log of ' if use_log_x else '',\n",
    "          'Learning rate' if key_name == 'perplexity' else 'Perplexity')),\n",
    "      yaxis = dict(title = '{} {}'.format(\n",
    "          'Log of ' if use_log_y else '', 'Metrics value / negative LL')),\n",
    "      )\n",
    "        \n",
    "    fig = go.Figure(data=plot_data, layout=layout)\n",
    "    iplot(fig)"
   ]
  },
  {
   "cell_type": "code",
   "execution_count": 70,
   "metadata": {
    "extensions": {
     "jupyter_dashboards": {
      "version": 1,
      "views": {
       "grid_default": {
        "hidden": true
       },
       "report_default": {
        "hidden": true
       }
      }
     }
    }
   },
   "outputs": [],
   "source": [
    "# UI controls\n",
    "\n",
    "datasetX = widgets.Dropdown(\n",
    "    options={\n",
    "        \"Select dataset\": \"\",\n",
    "        \"MNIST mini\": \"MNIST-SMALL\",\n",
    "        \"COIL-20\": \"COIL20\",\n",
    "        \"Country Indicators 1999\": \"COUNTRY1999\",\n",
    "        \"Country Indicators 2013\": \"COUNTRY2013\",\n",
    "        \"Country Indicators 2014\": \"COUNTRY2014\",\n",
    "        \"Country Indicators 2015\": \"COUNTRY2015\",\n",
    "        \"Cars and Trucks 2004\": \"CARS04\",\n",
    "        \"Breast Cancer Wisconsin (Diagnostic)\": \"BREAST-CANCER95\",\n",
    "        \"Pima Indians Diabetes\": \"DIABETES\",\n",
    "        \"Multidimensional Poverty Measures\": \"MPI\"\n",
    "    },\n",
    "    value='',\n",
    "    description='Dataset:',\n",
    ")\n",
    "\n",
    "pivotKeyX = widgets.Dropdown(\n",
    "    options={\n",
    "        'NLL in LD': 'q_link',\n",
    "        'NLL in HD': 'p_link',\n",
    "        'KL-loss': 'loss',\n",
    "        'AUC R_NX': 'auc_rnx',\n",
    "        'CorrCoef': 'pearsonr',\n",
    "        'MDS Stress': 'mds_isotonic',\n",
    "        'CCA Stress': 'cca_stress',\n",
    "        'Sammon NLM': 'sammon_nlm'\n",
    "\n",
    "    },\n",
    "    value='q_link',\n",
    "    description='Surface: ',\n",
    ")\n",
    "\n",
    "lrX = widgets.SelectionSlider(\n",
    "    options=g_df['learning_rate'].unique(),\n",
    "    value=100.0,\n",
    "    description='LR ($\\lambda$): '\n",
    ")\n",
    "\n",
    "perpX = widgets.SelectionSlider(\n",
    "    options=g_df['perplexity'].unique(),\n",
    "    value=50.0,\n",
    "    description='Perplexity: '\n",
    ")\n",
    "\n",
    "useLogXAxisX = widgets.Checkbox(\n",
    "    description='Log scale in xAxis',\n",
    "    value=False,\n",
    ")\n",
    "\n",
    "useLogYAxisX = widgets.Checkbox(\n",
    "    description='Log scale in yAxis',\n",
    "    value=False,\n",
    ")\n",
    "\n",
    "showNegativeX = widgets.Checkbox(\n",
    "    description='Negative stress func. [*]',\n",
    "    value=False,\n",
    ")\n",
    "\n",
    "showInverseX = widgets.Checkbox(\n",
    "    description='Inverse stress func. [*]',\n",
    "    value=False,\n",
    ")"
   ]
  },
  {
   "cell_type": "code",
   "execution_count": 71,
   "metadata": {
    "extensions": {
     "jupyter_dashboards": {
      "version": 1,
      "views": {
       "grid_default": {
        "col": null,
        "height": 31,
        "hidden": false,
        "row": 0,
        "width": null
       },
       "report_default": {
        "hidden": true
       }
      }
     }
    },
    "scrolled": false
   },
   "outputs": [
    {
     "data": {
      "application/vnd.jupyter.widget-view+json": {
       "model_id": "4ef6fc91141046babfdafc6fc4020a46",
       "version_major": 2,
       "version_minor": 0
      },
      "text/plain": [
       "A Jupyter Widget"
      ]
     },
     "metadata": {},
     "output_type": "display_data"
    }
   ],
   "source": [
    "# interactive plot\n",
    "\n",
    "@interact(dataset_name=datasetX)\n",
    "def select_dataset(dataset_name):   \n",
    "    global g_df\n",
    "    g_df = load_df(dataset_name)\n",
    "    \n",
    "    @interact(key_to_pivot=pivotKeyX)\n",
    "    def plot_surface_by_name(key_to_pivot='q_link'):\n",
    "        global g_df\n",
    "        if g_df is None: return\n",
    "\n",
    "        pivot_df = g_df[['learning_rate', 'perplexity', key_to_pivot]].pivot(\n",
    "            index='learning_rate', columns='perplexity', values=key_to_pivot)\n",
    "\n",
    "        _plot_surface(pivot_data=pivot_df, chart_title=key_to_pivot)"
   ]
  },
  {
   "cell_type": "code",
   "execution_count": 72,
   "metadata": {
    "extensions": {
     "jupyter_dashboards": {
      "version": 1,
      "views": {
       "grid_default": {
        "col": null,
        "height": 42,
        "hidden": false,
        "row": 31,
        "width": null
       },
       "report_default": {}
      }
     }
    },
    "scrolled": false
   },
   "outputs": [
    {
     "data": {
      "application/vnd.jupyter.widget-view+json": {
       "model_id": "62e94bf6214145a1b5145a2e9b368a9f",
       "version_major": 2,
       "version_minor": 0
      },
      "text/plain": [
       "A Jupyter Widget"
      ]
     },
     "metadata": {},
     "output_type": "display_data"
    },
    {
     "data": {
      "application/vnd.jupyter.widget-view+json": {
       "model_id": "a5b3b6cb20154a238700efcb6edd2470",
       "version_major": 2,
       "version_minor": 0
      },
      "text/plain": [
       "A Jupyter Widget"
      ]
     },
     "metadata": {},
     "output_type": "display_data"
    }
   ],
   "source": [
    "def plot_lines_by_key(dataset_name, lr, perp, use_log_x, use_log_y, show_inverse, show_neg):\n",
    "    global g_df\n",
    "    g_df = load_df(dataset_name)\n",
    "    \n",
    "    _plot_lines_by_key('learning_rate', lr, use_log_x, use_log_y, show_inverse, show_neg)\n",
    "    _plot_lines_by_key('perplexity', perp, use_log_x, use_log_y, show_inverse, show_neg)\n",
    "    \n",
    "ui = widgets.VBox([\n",
    "    widgets.HBox([datasetX, lrX, perpX]),\n",
    "    widgets.HBox([useLogXAxisX, useLogYAxisX, showInverseX, showNegativeX])\n",
    "])\n",
    "\n",
    "out = widgets.interactive_output(plot_lines_by_key, \n",
    "               {'dataset_name': datasetX,\n",
    "                'lr':lrX,\n",
    "                'perp':perpX,\n",
    "                'use_log_x': useLogXAxisX,\n",
    "                'use_log_y': useLogYAxisX,\n",
    "                'show_inverse': showInverseX,\n",
    "                'show_neg': showNegativeX})\n",
    "\n",
    "display(ui, out)"
   ]
  },
  {
   "cell_type": "code",
   "execution_count": 67,
   "metadata": {
    "collapsed": true
   },
   "outputs": [],
   "source": [
    "# plot running time and the number of iterations\n",
    "\n",
    "def _plot_runningtime(key_name, key_val):\n",
    "    global g_df\n",
    "    if g_df is None: return\n",
    "    \n",
    "    if key_name == 'perplexity':\n",
    "        df_by_key = g_df[g_df[key_name]==key_val]\n",
    "        x_data = df_by_key['learning_rate']\n",
    "    else: # learning_rate\n",
    "        df_by_key = g_df[g_df[key_name]==key_val]\n",
    "        x_data = df_by_key['perplexity']\n",
    "    \n",
    "    trace1 = go.Scatter(\n",
    "        x=x_data,\n",
    "        y=df_by_key['running_time'],\n",
    "        name='Runnning time'\n",
    "    )\n",
    "    trace2 = go.Bar(\n",
    "        x=x_data,\n",
    "        y=df_by_key['n_iter'],\n",
    "        name='# of iterations',\n",
    "        yaxis='y2'\n",
    "    )\n",
    "    data = [trace1, trace2]\n",
    "    layout = go.Layout(\n",
    "        title='Running time and number of iterations [{} = {}]'.format(key_name, key_val),\n",
    "        xaxis = dict(title = '{}'.format('Learning rate' if key_name == 'perplexity' else 'Perplexity')),\n",
    "        yaxis=dict(\n",
    "            title='Running time (s)'\n",
    "        ),\n",
    "        yaxis2=dict(\n",
    "            title='Number of iterations',\n",
    "            titlefont=dict(\n",
    "                color='orange'\n",
    "            ),\n",
    "            tickfont=dict(\n",
    "                color='orange'\n",
    "            ),\n",
    "            overlaying='y',\n",
    "            side='right'\n",
    "        ),\n",
    "        legend=dict(orientation=\"h\")\n",
    "    )\n",
    "    fig = go.Figure(data=data, layout=layout)\n",
    "    iplot(fig)"
   ]
  },
  {
   "cell_type": "code",
   "execution_count": 68,
   "metadata": {},
   "outputs": [
    {
     "data": {
      "application/vnd.jupyter.widget-view+json": {
       "model_id": "2ecbecee72424f1a850c3e16ed36f39c",
       "version_major": 2,
       "version_minor": 0
      },
      "text/plain": [
       "A Jupyter Widget"
      ]
     },
     "metadata": {},
     "output_type": "display_data"
    },
    {
     "data": {
      "application/vnd.jupyter.widget-view+json": {
       "model_id": "cd25e876ae20431fbc88eeab05c0f705",
       "version_major": 2,
       "version_minor": 0
      },
      "text/plain": [
       "A Jupyter Widget"
      ]
     },
     "metadata": {},
     "output_type": "display_data"
    }
   ],
   "source": [
    "def plot_runningtime(dataset_name, lr, perp):\n",
    "    global g_df\n",
    "    g_df = load_df(dataset_name)\n",
    "    \n",
    "    _plot_runningtime('learning_rate', lr)\n",
    "    _plot_runningtime('perplexity', perp)\n",
    "    \n",
    "ui2 = widgets.VBox([\n",
    "    widgets.HBox([datasetX, lrX, perpX]),\n",
    "])\n",
    "\n",
    "out2 = widgets.interactive_output(plot_runningtime, \n",
    "               {'dataset_name': datasetX,\n",
    "                'lr':lrX,\n",
    "                'perp':perpX})\n",
    "\n",
    "display(ui2, out2)"
   ]
  }
 ],
 "metadata": {
  "extensions": {
   "jupyter_dashboards": {
    "activeView": "grid_default",
    "version": 1,
    "views": {
     "grid_default": {
      "cellMargin": 10,
      "defaultCellHeight": 20,
      "maxColumns": 12,
      "name": "grid",
      "type": "grid"
     },
     "report_default": {
      "name": "report",
      "type": "report"
     }
    }
   }
  },
  "kernelspec": {
   "display_name": "Python 3",
   "language": "python",
   "name": "python3"
  },
  "language_info": {
   "codemirror_mode": {
    "name": "ipython",
    "version": 3
   },
   "file_extension": ".py",
   "mimetype": "text/x-python",
   "name": "python",
   "nbconvert_exporter": "python",
   "pygments_lexer": "ipython3",
   "version": "3.6.2"
  }
 },
 "nbformat": 4,
 "nbformat_minor": 2
}
