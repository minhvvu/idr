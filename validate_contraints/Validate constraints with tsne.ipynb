{
 "cells": [
  {
   "cell_type": "code",
   "execution_count": 1,
   "metadata": {
    "collapsed": true,
    "extensions": {
     "jupyter_dashboards": {
      "version": 1,
      "views": {
       "grid_default": {
        "hidden": true
       },
       "report_default": {
        "hidden": true
       }
      }
     }
    }
   },
   "outputs": [],
   "source": [
    "import numpy as np\n",
    "import pandas as pd\n",
    "import pickle\n",
    "\n",
    "data_folder = 'output_tsne'"
   ]
  },
  {
   "cell_type": "code",
   "execution_count": 2,
   "metadata": {
    "collapsed": true,
    "extensions": {
     "jupyter_dashboards": {
      "version": 1,
      "views": {
       "grid_default": {
        "hidden": true
       },
       "report_default": {
        "hidden": true
       }
      }
     }
    }
   },
   "outputs": [],
   "source": [
    "%reload_ext autoreload\n",
    "%autoreload 2"
   ]
  },
  {
   "cell_type": "code",
   "execution_count": 3,
   "metadata": {
    "extensions": {
     "jupyter_dashboards": {
      "version": 1,
      "views": {
       "grid_default": {
        "col": 0,
        "height": 4,
        "hidden": true,
        "row": 0,
        "width": 4
       },
       "report_default": {
        "hidden": false
       }
      }
     }
    }
   },
   "outputs": [
    {
     "data": {
      "text/html": [
       "<script>requirejs.config({paths: { 'plotly': ['https://cdn.plot.ly/plotly-latest.min']},});if(!window.Plotly) {{require(['plotly'],function(plotly) {window.Plotly=plotly;});}}</script>"
      ],
      "text/vnd.plotly.v1+html": [
       "<script>requirejs.config({paths: { 'plotly': ['https://cdn.plot.ly/plotly-latest.min']},});if(!window.Plotly) {{require(['plotly'],function(plotly) {window.Plotly=plotly;});}}</script>"
      ]
     },
     "metadata": {},
     "output_type": "display_data"
    }
   ],
   "source": [
    "import plotly.plotly as py\n",
    "import plotly.graph_objs as go\n",
    "\n",
    "from plotly.offline import download_plotlyjs, init_notebook_mode, plot, iplot\n",
    "init_notebook_mode(connected=True)\n",
    "\n",
    "\n",
    "def plot_surface(pivot_data, z_title='', chart_title=''):\n",
    "    perps = pivot_data.columns\n",
    "    lrs = pivot_data.transpose().columns\n",
    "    data = [\n",
    "        go.Surface(\n",
    "            x = perps,\n",
    "            y = lrs,\n",
    "            z=pivot_data.as_matrix()\n",
    "        )\n",
    "    ]\n",
    "    layout = go.Layout(\n",
    "        title=chart_title,\n",
    "        autosize=True,\n",
    "        width=800,\n",
    "        height=800,\n",
    "        margin=dict(\n",
    "            l=65,\n",
    "            r=50,\n",
    "            b=65,\n",
    "            t=90\n",
    "        ),\n",
    "        scene = dict(\n",
    "            xaxis = dict(\n",
    "                title='Perplexity'),\n",
    "            yaxis = dict(\n",
    "                title='Learning rate'),\n",
    "            zaxis = dict(\n",
    "                title=z_title),)   \n",
    "    )\n",
    "    fig = go.Figure(data=data, layout=layout)\n",
    "    iplot(fig)"
   ]
  },
  {
   "cell_type": "code",
   "execution_count": 4,
   "metadata": {
    "collapsed": true,
    "extensions": {
     "jupyter_dashboards": {
      "version": 1,
      "views": {
       "grid_default": {
        "hidden": true
       },
       "report_default": {
        "hidden": true
       }
      }
     }
    }
   },
   "outputs": [],
   "source": [
    "def viz_for_dataset(dataset_name='MNIST-SMALL', key_to_pivot='q_link'):\n",
    "    in_name = '{}/plot_{}.pickle'.format(data_folder, dataset_name)\n",
    "    pkl_data = pickle.load(open(in_name, 'rb'))\n",
    "    embeddeds = pkl_data['results']\n",
    "    \n",
    "    df = pd.DataFrame.from_records(embeddeds, exclude=[\"embedding\"])\n",
    "    df.head()\n",
    "    df.loc[(df['learning_rate'] > 10.0) & df['perplexity'] < 100.0]\n",
    "    df.head()\n",
    "    pivot_df = df[['learning_rate', 'perplexity', key_to_pivot]].pivot(\n",
    "        index='learning_rate', columns='perplexity', values=key_to_pivot)\n",
    "    \n",
    "    plot_surface(pivot_data=pivot_df, chart_title=key_to_pivot)"
   ]
  },
  {
   "cell_type": "code",
   "execution_count": 5,
   "metadata": {
    "collapsed": true,
    "extensions": {
     "jupyter_dashboards": {
      "version": 1,
      "views": {
       "grid_default": {
        "hidden": true
       },
       "report_default": {
        "hidden": true
       }
      }
     }
    }
   },
   "outputs": [],
   "source": [
    "import ipywidgets as widgets\n",
    "\n",
    "datasetX = widgets.Dropdown(\n",
    "    options={\n",
    "        'MNIST small': 'MNIST-SMALL',\n",
    "        'Country Indicators 1999': 'COUNTRY1999'\n",
    "    },\n",
    "    value='COUNTRY1999',\n",
    "    description='Dataset:',\n",
    ")\n",
    "\n",
    "pivotKeyX = widgets.Dropdown(\n",
    "    options={\n",
    "        'NLL in LD': 'q_link',\n",
    "        'NLL in HD': 'p_link',\n",
    "        'KL-loss': 'loss'\n",
    "    },\n",
    "    value='q_link',\n",
    "    description='Surface: ',\n",
    ")\n",
    "\n",
    "ui = widgets.HBox([datasetX, pivotKeyX])"
   ]
  },
  {
   "cell_type": "code",
   "execution_count": 6,
   "metadata": {
    "extensions": {
     "jupyter_dashboards": {
      "version": 1,
      "views": {
       "grid_default": {
        "col": null,
        "height": 23,
        "hidden": false,
        "row": 0,
        "width": null
       },
       "report_default": {
        "hidden": false
       }
      }
     }
    },
    "scrolled": false
   },
   "outputs": [
    {
     "data": {
      "application/vnd.jupyter.widget-view+json": {
       "model_id": "acb38e3396d84d2c8cb2932cf62ad3a2",
       "version_major": 2,
       "version_minor": 0
      },
      "text/plain": [
       "A Jupyter Widget"
      ]
     },
     "metadata": {},
     "output_type": "display_data"
    },
    {
     "data": {
      "application/vnd.jupyter.widget-view+json": {
       "model_id": "b53ff180d8f54a9d8938245c4fd62977",
       "version_major": 2,
       "version_minor": 0
      },
      "text/plain": [
       "A Jupyter Widget"
      ]
     },
     "metadata": {},
     "output_type": "display_data"
    }
   ],
   "source": [
    "from ipywidgets import interact, interactive_output\n",
    "out = widgets.interactive_output(viz_for_dataset, \n",
    "               {'dataset_name':datasetX,\n",
    "                'key_to_pivot': pivotKeyX\n",
    "               })\n",
    "display(ui, out)"
   ]
  },
  {
   "cell_type": "code",
   "execution_count": null,
   "metadata": {
    "collapsed": true
   },
   "outputs": [],
   "source": []
  }
 ],
 "metadata": {
  "extensions": {
   "jupyter_dashboards": {
    "activeView": "report_default",
    "version": 1,
    "views": {
     "grid_default": {
      "cellMargin": 10,
      "defaultCellHeight": 20,
      "maxColumns": 12,
      "name": "grid",
      "type": "grid"
     },
     "report_default": {
      "name": "report",
      "type": "report"
     }
    }
   }
  },
  "kernelspec": {
   "display_name": "Python 3",
   "language": "python",
   "name": "python3"
  },
  "language_info": {
   "codemirror_mode": {
    "name": "ipython",
    "version": 3
   },
   "file_extension": ".py",
   "mimetype": "text/x-python",
   "name": "python",
   "nbconvert_exporter": "python",
   "pygments_lexer": "ipython3",
   "version": "3.6.2"
  }
 },
 "nbformat": 4,
 "nbformat_minor": 2
}
