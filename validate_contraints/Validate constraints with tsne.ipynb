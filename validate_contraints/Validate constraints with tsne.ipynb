{
 "cells": [
  {
   "cell_type": "markdown",
   "metadata": {
    "extensions": {
     "jupyter_dashboards": {
      "version": 1,
      "views": {
       "grid_default": {
        "col": 0,
        "height": 4,
        "hidden": false,
        "row": 0,
        "width": 12
       },
       "report_default": {}
      }
     }
    }
   },
   "source": [
    "## Validating the pairwise constraints with Metric scores for t-SNE"
   ]
  },
  {
   "cell_type": "code",
   "execution_count": 26,
   "metadata": {
    "collapsed": true,
    "extensions": {
     "jupyter_dashboards": {
      "version": 1,
      "views": {
       "grid_default": {
        "hidden": true
       },
       "report_default": {
        "hidden": true
       }
      }
     }
    }
   },
   "outputs": [],
   "source": [
    "import numpy as np\n",
    "import pandas as pd\n",
    "import pickle\n",
    "\n",
    "from scipy.spatial.distance import cosine\n",
    "\n",
    "# folder containing the pre-calculated metrics and negative log likelihood for the constrained pairs\n",
    "data_folder = 'output_tsne'"
   ]
  },
  {
   "cell_type": "code",
   "execution_count": 2,
   "metadata": {
    "extensions": {
     "jupyter_dashboards": {
      "version": 1,
      "views": {
       "grid_default": {
        "col": 0,
        "height": 4,
        "hidden": true,
        "row": 0,
        "width": 4
       },
       "report_default": {
        "hidden": true
       }
      }
     }
    }
   },
   "outputs": [
    {
     "data": {
      "text/html": [
       "<script>requirejs.config({paths: { 'plotly': ['https://cdn.plot.ly/plotly-latest.min']},});if(!window.Plotly) {{require(['plotly'],function(plotly) {window.Plotly=plotly;});}}</script>"
      ],
      "text/vnd.plotly.v1+html": [
       "<script>requirejs.config({paths: { 'plotly': ['https://cdn.plot.ly/plotly-latest.min']},});if(!window.Plotly) {{require(['plotly'],function(plotly) {window.Plotly=plotly;});}}</script>"
      ]
     },
     "metadata": {},
     "output_type": "display_data"
    }
   ],
   "source": [
    "# using plotly for notebook in offline mode\n",
    "import plotly.plotly as py\n",
    "import plotly.graph_objs as go\n",
    "\n",
    "from plotly.offline import download_plotlyjs, init_notebook_mode, plot, iplot\n",
    "init_notebook_mode(connected=True)"
   ]
  },
  {
   "cell_type": "code",
   "execution_count": 3,
   "metadata": {
    "collapsed": true,
    "extensions": {
     "jupyter_dashboards": {
      "version": 1,
      "views": {
       "grid_default": {
        "hidden": true
       },
       "report_default": {
        "hidden": true
       }
      }
     }
    }
   },
   "outputs": [],
   "source": [
    "# using some gui elements (widgets) of ipython notebook: selection-box, check-box, slider\n",
    "import ipywidgets as widgets\n",
    "from ipywidgets import interact, interactive_output"
   ]
  },
  {
   "cell_type": "markdown",
   "metadata": {
    "extensions": {
     "jupyter_dashboards": {
      "version": 1,
      "views": {
       "grid_default": {
        "col": 4,
        "height": 4,
        "hidden": true,
        "row": 4,
        "width": 4
       },
       "report_default": {}
      }
     }
    }
   },
   "source": [
    "### Util functions for loading data and plotting"
   ]
  },
  {
   "cell_type": "code",
   "execution_count": 4,
   "metadata": {
    "collapsed": true,
    "extensions": {
     "jupyter_dashboards": {
      "version": 1,
      "views": {
       "grid_default": {
        "hidden": true
       },
       "report_default": {
        "hidden": true
       }
      }
     }
    }
   },
   "outputs": [],
   "source": [
    "def load_df(dataset_name):\n",
    "    \"\"\"Load data from pickle file\n",
    "        The result is a list of object (dict), which then be converted into pandas dataframe\n",
    "    \"\"\"\n",
    "    if dataset_name == \"\": return None\n",
    "    \n",
    "    in_name = '{}/tsne_{}.pkl'.format(data_folder, dataset_name)\n",
    "    pkl_data = pickle.load(open(in_name, 'rb'))\n",
    "    embeddeds = pkl_data['results']\n",
    "    df = pd.DataFrame.from_records(embeddeds, exclude=[\"embedding\"])\n",
    "    return df\n",
    "\n",
    "# global dataframe\n",
    "g_df = load_df('MNIST-SMALL')"
   ]
  },
  {
   "cell_type": "code",
   "execution_count": 5,
   "metadata": {
    "collapsed": true,
    "extensions": {
     "jupyter_dashboards": {
      "version": 1,
      "views": {
       "grid_default": {
        "col": 0,
        "height": 4,
        "hidden": true,
        "row": 0,
        "width": 4
       },
       "report_default": {
        "hidden": true
       }
      }
     }
    }
   },
   "outputs": [],
   "source": [
    "def _plot_surface(pivot_data, z_title='', chart_title=''):\n",
    "    \"\"\"Using plotly to plot the 3d surface of cost function, or metric scores\n",
    "    \"\"\"\n",
    "    perps = pivot_data.columns\n",
    "    lrs = pivot_data.transpose().columns\n",
    "    data = [\n",
    "        go.Surface(\n",
    "            x = perps,\n",
    "            y = lrs,\n",
    "            z=pivot_data.as_matrix(),\n",
    "        )\n",
    "    ]\n",
    "    layout = go.Layout(\n",
    "        title=chart_title,\n",
    "        autosize=True,\n",
    "        width=600,\n",
    "        height=600,\n",
    "        margin=dict(\n",
    "            l=65,\n",
    "            r=50,\n",
    "            b=65,\n",
    "            t=90\n",
    "        ),\n",
    "        scene = dict(\n",
    "            xaxis = dict(\n",
    "                title='Perplexity'),\n",
    "            yaxis = dict(\n",
    "                title='Learning rate'),\n",
    "            zaxis = dict(\n",
    "                title=z_title),\n",
    "        ),\n",
    "    )\n",
    "    fig = go.Figure(data=data, layout=layout)\n",
    "    iplot(fig, filename='./plotly_output/test-3d-surface.html')"
   ]
  },
  {
   "cell_type": "code",
   "execution_count": 6,
   "metadata": {
    "collapsed": true,
    "extensions": {
     "jupyter_dashboards": {
      "version": 1,
      "views": {
       "grid_default": {
        "hidden": true
       },
       "report_default": {
        "hidden": true
       }
      }
     }
    }
   },
   "outputs": [],
   "source": [
    "def _plot_lines_by_key(key_name, key_val, use_log_x, use_log_y, show_inverse, show_neg):\n",
    "    \"\"\"Plot multiple lines, each line is a column in filtered dataframe (by input `key_name`)\n",
    "    \"\"\"\n",
    "    global g_df\n",
    "    if g_df is None: return\n",
    "    \n",
    "    if key_name == 'perplexity':\n",
    "        df_by_key = g_df[g_df[key_name]==key_val]\n",
    "        x_data = np.log(df_by_key['learning_rate']) if use_log_x else df_by_key['learning_rate']\n",
    "    else: # learning_rate\n",
    "        df_by_key = g_df[g_df[key_name]==key_val]\n",
    "        x_data = np.log(df_by_key['perplexity']) if use_log_x else df_by_key['perplexity']\n",
    "    \n",
    "    # customized functions that can be applied onto the y-values\n",
    "    _inverse = lambda y: np.divide(1.0, y, out=np.zeros_like(y), where=(y != 0))\n",
    "    _negative = lambda y: -y\n",
    "    \n",
    "    line_names = [\n",
    "        # (line_name, display_name, show_by_default, can_modify)\n",
    "        ('q_link', '[] -log(links) in low dim.', True, False),\n",
    "        ('p_link', '[] -log(links) in high dim.', False, False),\n",
    "        ('loss', '[] KL loss', False, False),\n",
    "        ('auc_rnx', '[*] logRNX', True, True),\n",
    "        ('cca_stress', '[*] CCA Stress', False, True),\n",
    "        ('mds_isotonic', '[*] MDS Stress', False, True),\n",
    "        ('pearsonr', '[*] Corr. Coef.', True, True),\n",
    "        ('sammon_nlm', '[*] Sammon NLM', True, True)\n",
    "    ]\n",
    "    \n",
    "    plot_data = []\n",
    "    for line_name, display_name, show_by_default, can_modify in line_names:\n",
    "        y = df_by_key[line_name]\n",
    "        y_data = np.log(y) if use_log_y else y\n",
    "        if can_modify:\n",
    "            if show_inverse: y_data = _inverse(y_data)\n",
    "            if show_neg: y_data = _negative(y_data)\n",
    "            \n",
    "        trace_i = go.Scatter(\n",
    "            x = x_data,\n",
    "            y = y_data,\n",
    "            name = display_name,\n",
    "            mode = 'lines+markers',\n",
    "            line = {'shape': 'spline'},\n",
    "            visible= '' if show_by_default else 'legendonly'\n",
    "        )\n",
    "        plot_data.append(trace_i)\n",
    "    \n",
    "    \n",
    "    layout = dict(\n",
    "        title = 'Metric values / NLL [{}  = {}]'.format(key_name, key_val),\n",
    "        xaxis = dict(title = '{} {}'.format(\n",
    "          'Log of ' if use_log_x else '',\n",
    "          'Learning rate' if key_name == 'perplexity' else 'Perplexity')),\n",
    "        yaxis = dict(title = '{} {}'.format(\n",
    "          'Log of ' if use_log_y else '', 'Metrics value / negative LL')),\n",
    "        autosize=False\n",
    "    )\n",
    "        \n",
    "    fig = go.Figure(data=plot_data, layout=layout)\n",
    "    iplot(fig)"
   ]
  },
  {
   "cell_type": "code",
   "execution_count": 19,
   "metadata": {
    "collapsed": true,
    "extensions": {
     "jupyter_dashboards": {
      "version": 1,
      "views": {
       "grid_default": {
        "hidden": true
       },
       "report_default": {
        "hidden": true
       }
      }
     }
    }
   },
   "outputs": [],
   "source": [
    "# UI controls\n",
    "\n",
    "datasetX = widgets.Dropdown(\n",
    "    options={\n",
    "        \"Select dataset\": \"\",\n",
    "        \"MNIST mini\": \"MNIST-SMALL\",\n",
    "        \"COIL-20\": \"COIL20\",\n",
    "        \"MNIST 2000 samples\": \"MNIST-2000\",\n",
    "        \"Country Indicators 1999\": \"COUNTRY1999\",\n",
    "        \"Country Indicators 2013\": \"COUNTRY2013\",\n",
    "        \"Country Indicators 2014\": \"COUNTRY2014\",\n",
    "        \"Country Indicators 2015\": \"COUNTRY2015\",\n",
    "        \"Cars and Trucks 2004\": \"CARS04\",\n",
    "        \"Breast Cancer Wisconsin (Diagnostic)\": \"BREAST-CANCER95\",\n",
    "        \"Pima Indians Diabetes\": \"DIABETES\",\n",
    "        \"Multidimensional Poverty Measures\": \"MPI\"\n",
    "    },\n",
    "    value='',\n",
    "    description='Dataset:',\n",
    ")\n",
    "\n",
    "pivotKeyX = widgets.Dropdown(\n",
    "    options={\n",
    "        'Negative log likelihood in low dim.': 'q_link',\n",
    "        'Negative log likelihood in high dim.': 'p_link',\n",
    "        'KL-loss': 'loss',\n",
    "        'AUC R_NX': 'auc_rnx',\n",
    "        'CorrCoef': 'pearsonr',\n",
    "        'MDS Stress': 'mds_isotonic',\n",
    "        'CCA Stress': 'cca_stress',\n",
    "        'Sammon NLM': 'sammon_nlm'\n",
    "\n",
    "    },\n",
    "    value='q_link',\n",
    "    description='Surface: ',\n",
    ")\n",
    "\n",
    "lrX = widgets.SelectionSlider(\n",
    "    options=g_df['learning_rate'].unique(),\n",
    "    value=100.0,\n",
    "    description='LR ($\\lambda$): '\n",
    ")\n",
    "\n",
    "perpX = widgets.SelectionSlider(\n",
    "    options=g_df['perplexity'].unique(),\n",
    "    value=50.0,\n",
    "    description='Perplexity: '\n",
    ")\n",
    "\n",
    "useLogXAxisX = widgets.Checkbox(\n",
    "    description='Log scale in xAxis',\n",
    "    value=False,\n",
    ")\n",
    "\n",
    "useLogYAxisX = widgets.Checkbox(\n",
    "    description='Log scale in yAxis',\n",
    "    value=False,\n",
    ")\n",
    "\n",
    "showNegativeX = widgets.Checkbox(\n",
    "    description='Negative stress func. [*]',\n",
    "    value=True,\n",
    ")\n",
    "\n",
    "showInverseX = widgets.Checkbox(\n",
    "    description='Inverse stress func. [*]',\n",
    "    value=False,\n",
    ")\n",
    "\n",
    "useSameAxisX = widgets.Checkbox(\n",
    "    description='Use same yAxis',\n",
    "    value=False,\n",
    ")\n",
    "\n",
    "line1NameX = widgets.Dropdown(\n",
    "    options=g_df.columns,\n",
    "    description='Line1: '\n",
    ")\n",
    "\n",
    "line2NameX = widgets.Dropdown(\n",
    "    options=g_df.columns,\n",
    "    description='Line2: '\n",
    ")\n",
    "\n",
    "line3NameX = widgets.Dropdown(\n",
    "    options=g_df.columns,\n",
    "    description='Line3: '\n",
    ")"
   ]
  },
  {
   "cell_type": "markdown",
   "metadata": {
    "extensions": {
     "jupyter_dashboards": {
      "version": 1,
      "views": {
       "grid_default": {
        "col": 8,
        "height": 4,
        "hidden": false,
        "row": 4,
        "width": 4
       },
       "report_default": {}
      }
     }
    }
   },
   "source": [
    "### 3D surface of KL-loss, NLL or Metric scores"
   ]
  },
  {
   "cell_type": "code",
   "execution_count": 8,
   "metadata": {
    "extensions": {
     "jupyter_dashboards": {
      "version": 1,
      "views": {
       "grid_default": {
        "col": null,
        "height": 13,
        "hidden": false,
        "row": 20,
        "width": null
       },
       "report_default": {
        "hidden": true
       }
      }
     }
    },
    "scrolled": false
   },
   "outputs": [
    {
     "data": {
      "application/vnd.jupyter.widget-view+json": {
       "model_id": "10af143818a44900ac98d98ca66b443e",
       "version_major": 2,
       "version_minor": 0
      },
      "text/plain": [
       "A Jupyter Widget"
      ]
     },
     "metadata": {},
     "output_type": "display_data"
    }
   ],
   "source": [
    "# interactive plot for plotting the 3d surface\n",
    "\n",
    "@interact(dataset_name=datasetX)\n",
    "def select_dataset(dataset_name):   \n",
    "    global g_df\n",
    "    g_df = load_df(dataset_name)\n",
    "    \n",
    "    @interact(key_to_pivot=pivotKeyX)\n",
    "    def plot_surface_by_name(key_to_pivot='q_link'):\n",
    "        global g_df\n",
    "        if g_df is None: return\n",
    "\n",
    "        pivot_df = g_df[['learning_rate', 'perplexity', key_to_pivot]].pivot(\n",
    "            index='learning_rate', columns='perplexity', values=key_to_pivot)\n",
    "\n",
    "        _plot_surface(pivot_data=pivot_df, chart_title=key_to_pivot)"
   ]
  },
  {
   "cell_type": "markdown",
   "metadata": {
    "extensions": {
     "jupyter_dashboards": {
      "version": 1,
      "views": {
       "grid_default": {
        "col": 0,
        "height": 4,
        "hidden": false,
        "row": 4,
        "width": 4
       },
       "report_default": {}
      }
     }
    }
   },
   "source": [
    "### Compare NLL and all metric scores"
   ]
  },
  {
   "cell_type": "code",
   "execution_count": 9,
   "metadata": {
    "extensions": {
     "jupyter_dashboards": {
      "version": 1,
      "views": {
       "grid_default": {
        "col": null,
        "height": 35,
        "hidden": false,
        "row": 20,
        "width": null
       },
       "report_default": {}
      }
     }
    },
    "scrolled": false
   },
   "outputs": [
    {
     "data": {
      "application/vnd.jupyter.widget-view+json": {
       "model_id": "bf760607b6c140b3871b8847444f58c9",
       "version_major": 2,
       "version_minor": 0
      },
      "text/plain": [
       "A Jupyter Widget"
      ]
     },
     "metadata": {},
     "output_type": "display_data"
    },
    {
     "data": {
      "application/vnd.jupyter.widget-view+json": {
       "model_id": "a60b369b63c44e60bf08fa207609c79a",
       "version_major": 2,
       "version_minor": 0
      },
      "text/plain": [
       "A Jupyter Widget"
      ]
     },
     "metadata": {},
     "output_type": "display_data"
    }
   ],
   "source": [
    "# interactive plot all lines containint NLL and metric scores\n",
    "def plot_lines_by_key(dataset_name, lr, perp, use_log_x, use_log_y, show_inverse, show_neg):\n",
    "    global g_df\n",
    "    g_df = load_df(dataset_name)\n",
    "    \n",
    "    _plot_lines_by_key('learning_rate', lr, use_log_x, use_log_y, show_inverse, show_neg)\n",
    "    _plot_lines_by_key('perplexity', perp, use_log_x, use_log_y, show_inverse, show_neg)\n",
    "    \n",
    "ui = widgets.VBox([\n",
    "    widgets.HBox([datasetX, lrX, perpX]),\n",
    "    widgets.HBox([useLogXAxisX, useLogYAxisX, showInverseX, showNegativeX])\n",
    "])\n",
    "\n",
    "out = widgets.interactive_output(plot_lines_by_key, \n",
    "               {'dataset_name': datasetX,\n",
    "                'lr':lrX,\n",
    "                'perp':perpX,\n",
    "                'use_log_x': useLogXAxisX,\n",
    "                'use_log_y': useLogYAxisX,\n",
    "                'show_inverse': showInverseX,\n",
    "                'show_neg': showNegativeX})\n",
    "\n",
    "display(ui, out)"
   ]
  },
  {
   "cell_type": "markdown",
   "metadata": {
    "extensions": {
     "jupyter_dashboards": {
      "version": 1,
      "views": {
       "grid_default": {
        "col": 0,
        "height": 4,
        "hidden": false,
        "row": 12,
        "width": 12
       },
       "report_default": {}
      }
     }
    }
   },
   "source": [
    "### Plot running time and the number of iterations "
   ]
  },
  {
   "cell_type": "code",
   "execution_count": 10,
   "metadata": {
    "collapsed": true,
    "extensions": {
     "jupyter_dashboards": {
      "version": 1,
      "views": {
       "grid_default": {
        "hidden": true
       },
       "report_default": {}
      }
     }
    }
   },
   "outputs": [],
   "source": [
    "def _plot_runningtime(key_name, key_val):\n",
    "    global g_df\n",
    "    if g_df is None: return\n",
    "    \n",
    "    if key_name == 'perplexity':\n",
    "        df_by_key = g_df[g_df[key_name]==key_val]\n",
    "        x_data = df_by_key['learning_rate']\n",
    "    else: # learning_rate\n",
    "        df_by_key = g_df[g_df[key_name]==key_val]\n",
    "        x_data = df_by_key['perplexity']\n",
    "    \n",
    "    trace1 = go.Scatter(\n",
    "        x=x_data,\n",
    "        y=df_by_key['running_time'],\n",
    "        name='Runnning time'\n",
    "    )\n",
    "    trace2 = go.Bar(\n",
    "        x=x_data,\n",
    "        y=df_by_key['n_iter'],\n",
    "        name='# of iterations',\n",
    "        yaxis='y2'\n",
    "    )\n",
    "    data = [trace1, trace2]\n",
    "    layout = go.Layout(\n",
    "        title='Running time and number of iterations [{} = {}]'.format(key_name, key_val),\n",
    "        xaxis = dict(title = '{}'.format('Learning rate' if key_name == 'perplexity' else 'Perplexity')),\n",
    "        yaxis=dict(\n",
    "            title='Running time (s)'\n",
    "        ),\n",
    "        yaxis2=dict(\n",
    "            title='Number of iterations',\n",
    "            titlefont=dict(\n",
    "                color='orange'\n",
    "            ),\n",
    "            tickfont=dict(\n",
    "                color='orange'\n",
    "            ),\n",
    "            overlaying='y',\n",
    "            side='right'\n",
    "        ),\n",
    "        legend=dict(orientation=\"h\"),\n",
    "        autosize=False\n",
    "    )\n",
    "    fig = go.Figure(data=data, layout=layout)\n",
    "    iplot(fig,image='svg')"
   ]
  },
  {
   "cell_type": "code",
   "execution_count": 11,
   "metadata": {
    "extensions": {
     "jupyter_dashboards": {
      "version": 1,
      "views": {
       "grid_default": {
        "col": null,
        "height": 12,
        "hidden": false,
        "row": 20,
        "width": null
       },
       "report_default": {}
      }
     }
    },
    "scrolled": true
   },
   "outputs": [
    {
     "data": {
      "application/vnd.jupyter.widget-view+json": {
       "model_id": "07b798408d8b4fd997633cacfee1428a",
       "version_major": 2,
       "version_minor": 0
      },
      "text/plain": [
       "A Jupyter Widget"
      ]
     },
     "metadata": {},
     "output_type": "display_data"
    },
    {
     "data": {
      "application/vnd.jupyter.widget-view+json": {
       "model_id": "c46a3be5de48463995d975e9f35f7f3b",
       "version_major": 2,
       "version_minor": 0
      },
      "text/plain": [
       "A Jupyter Widget"
      ]
     },
     "metadata": {},
     "output_type": "display_data"
    }
   ],
   "source": [
    "def plot_runningtime(dataset_name, lr, perp):\n",
    "    global g_df\n",
    "    g_df = load_df(dataset_name)\n",
    "    \n",
    "    _plot_runningtime('learning_rate', lr)\n",
    "    _plot_runningtime('perplexity', perp)\n",
    "    \n",
    "ui2 = widgets.VBox([\n",
    "    widgets.HBox([datasetX, lrX, perpX]),\n",
    "])\n",
    "\n",
    "out2 = widgets.interactive_output(plot_runningtime, \n",
    "               {'dataset_name': datasetX,\n",
    "                'lr':lrX,\n",
    "                'perp':perpX})\n",
    "\n",
    "display(ui2, out2)"
   ]
  },
  {
   "cell_type": "markdown",
   "metadata": {
    "extensions": {
     "jupyter_dashboards": {
      "version": 1,
      "views": {
       "grid_default": {
        "col": 0,
        "height": 4,
        "hidden": false,
        "row": 8,
        "width": 12
       },
       "report_default": {}
      }
     }
    }
   },
   "source": [
    "### Compare two lines in the same graph\n",
    "+ We fix the value of `learning_rate`, e.g. choose `learning_rate = 100.0`, because it does not influence too much the final result."
   ]
  },
  {
   "cell_type": "code",
   "execution_count": 12,
   "metadata": {
    "collapsed": true
   },
   "outputs": [],
   "source": [
    "def _normalize_0_1(arr):\n",
    "    return (arr - arr.max()) / -np.ptp(arr)\n",
    "\n",
    "def _standardize(arr):\n",
    "    return (arr - arr.mean()) / arr.std()"
   ]
  },
  {
   "cell_type": "code",
   "execution_count": 27,
   "metadata": {
    "collapsed": true,
    "extensions": {
     "jupyter_dashboards": {
      "version": 1,
      "views": {
       "grid_default": {
        "hidden": true
       },
       "report_default": {}
      }
     }
    }
   },
   "outputs": [],
   "source": [
    "def _plot_two_lines(line1_name, line2_name, line3_name, use_log_x, use_log_y,\n",
    "                    use_same_yaxis, show_inverse, show_neg, lr=100.0):\n",
    "    \"\"\"Util function for plotting two line in the same plot with different `yAxis`\n",
    "    \"\"\"\n",
    "    global g_df\n",
    "    if g_df is None: return\n",
    "    \n",
    "    _inverse = lambda y: np.divide(1.0, y, out=np.zeros_like(y), where=(y != 0))\n",
    "    \n",
    "    df_by_key = g_df[g_df['learning_rate']==lr]\n",
    "    \n",
    "    x_data = df_by_key['perplexity'] if not use_log_x else np.log(df_by_key['perplexity'])\n",
    "    y1_data = df_by_key[line1_name] if not use_log_y else np.log(df_by_key[line1_name])\n",
    "    y2_data = df_by_key[line2_name] if not use_log_y else np.log(df_by_key[line2_name])\n",
    "    \n",
    "    if show_inverse:\n",
    "        y2_data = _inverse(y2_data)\n",
    "        \n",
    "    if show_neg:\n",
    "        y2_data = - y2_data\n",
    "    \n",
    "    trace1 = go.Scatter(\n",
    "        x=x_data,\n",
    "        y=y1_data,\n",
    "        name=line1_name,\n",
    "        xaxis='x',\n",
    "        yaxis='y',\n",
    "    )\n",
    "    trace2 = go.Scatter(\n",
    "        x=x_data,\n",
    "        y=y2_data,\n",
    "        name=line2_name,\n",
    "        xaxis='x',\n",
    "        yaxis='y' if use_same_yaxis else 'y2'\n",
    "    )\n",
    "    \n",
    "    y1_normalized = _standardize(y1_data)\n",
    "    y2_normalized = _standardize(y2_data)\n",
    "    print(\"Cosine similarity: \", 1 - cosine(y1_normalized, y2_normalized))\n",
    "    \n",
    "    trace3 = go.Bar(\n",
    "        x=x_data,\n",
    "        y=(y1_normalized - y2_normalized),\n",
    "        name='diff',\n",
    "        yaxis='y3',\n",
    "        xaxis = 'x',\n",
    "        marker=dict(color='#d62728'),\n",
    "    )\n",
    "    \n",
    "    data = [trace1, trace2, trace3]\n",
    "        \n",
    "    layout = go.Layout(\n",
    "        title='Compare the shape of {} and {} [learning_rate = {}]'.format(line1_name, line2_name, lr),\n",
    "        xaxis=dict(\n",
    "            tickvals=np.log(df_by_key['perplexity']),\n",
    "            ticktext=df_by_key['perplexity'],\n",
    "            #title='Perplexity in log-scale'\n",
    "        ) if use_log_x else dict(),\n",
    "        yaxis=dict(\n",
    "            title=line1_name,\n",
    "            domain=[0.3, 1],\n",
    "        ),\n",
    "        yaxis2=dict(\n",
    "            title=line2_name,\n",
    "            titlefont=dict(\n",
    "                color='orange'\n",
    "            ),\n",
    "            tickfont=dict(\n",
    "                color='orange'\n",
    "            ),\n",
    "            overlaying='y',\n",
    "            side='right',\n",
    "        ),\n",
    "        yaxis3=dict(\n",
    "            title='Diff',\n",
    "            titlefont=dict(\n",
    "                color='#d62728'\n",
    "            ),\n",
    "            tickfont=dict(\n",
    "                color='#d62728'\n",
    "            ),\n",
    "            domain=[0, 0.2],\n",
    "        ),\n",
    "        legend=dict(orientation=\"h\"),\n",
    "        autosize=False\n",
    "    )\n",
    "    fig = go.Figure(data=data, layout=layout)\n",
    "    print(\"[*] Inverse function and Negative function are applied only for the `Line2`\")\n",
    "    iplot(fig)"
   ]
  },
  {
   "cell_type": "code",
   "execution_count": 28,
   "metadata": {
    "extensions": {
     "jupyter_dashboards": {
      "version": 1,
      "views": {
       "grid_default": {
        "col": null,
        "height": 18,
        "hidden": false,
        "row": 20,
        "width": null
       },
       "report_default": {}
      }
     }
    },
    "scrolled": false
   },
   "outputs": [
    {
     "data": {
      "application/vnd.jupyter.widget-view+json": {
       "model_id": "a965f2e598b34d80871f63613762d871",
       "version_major": 2,
       "version_minor": 0
      },
      "text/plain": [
       "A Jupyter Widget"
      ]
     },
     "metadata": {},
     "output_type": "display_data"
    },
    {
     "data": {
      "application/vnd.jupyter.widget-view+json": {
       "model_id": "0293c384b8a64f99902f813f8aef19ce",
       "version_major": 2,
       "version_minor": 0
      },
      "text/plain": [
       "A Jupyter Widget"
      ]
     },
     "metadata": {},
     "output_type": "display_data"
    }
   ],
   "source": [
    "def plot_two_lines(dataset_name, line1_name, line2_name, line3_name, use_log_x, use_log_y,\n",
    "                   use_same_yaxis, show_inverse, show_neg):\n",
    "    global g_df\n",
    "    g_df = load_df(dataset_name)\n",
    "    \n",
    "    _plot_two_lines(line1_name, line2_name, line3_name, use_log_x, use_log_y,\n",
    "                    use_same_yaxis, show_inverse, show_neg, lr=100.0)\n",
    "    \n",
    "ui3 = widgets.VBox([\n",
    "    widgets.HBox([datasetX, line1NameX, line2NameX, line3NameX]),\n",
    "    widgets.HBox([useLogXAxisX, useLogYAxisX, useSameAxisX]),\n",
    "    widgets.HBox([showInverseX, showNegativeX])\n",
    "])\n",
    "\n",
    "out3 = widgets.interactive_output(plot_two_lines, {\n",
    "    'dataset_name': datasetX,\n",
    "    'line1_name': line1NameX,\n",
    "    'line2_name': line2NameX,\n",
    "    'line3_name': line3NameX,\n",
    "    'use_log_x': useLogXAxisX,\n",
    "    'use_log_y': useLogYAxisX,\n",
    "    'use_same_yaxis': useSameAxisX,\n",
    "    'show_inverse': showInverseX,\n",
    "    'show_neg': showNegativeX\n",
    "})\n",
    "\n",
    "display(ui3, out3)"
   ]
  },
  {
   "cell_type": "markdown",
   "metadata": {},
   "source": [
    "### Compare metric scores and negative log likelihood of constrained points"
   ]
  },
  {
   "cell_type": "code",
   "execution_count": 15,
   "metadata": {
    "collapsed": true
   },
   "outputs": [],
   "source": [
    "def _compare_lines(base_line, other_lines=[()], use_log_x=False, lr=100):\n",
    "    \"\"\"Util function for plotting the difference between\n",
    "        each line in `other_lines` and `base_line`\n",
    "    \"\"\"\n",
    "    global g_df\n",
    "    if g_df is None: return\n",
    "        \n",
    "    df_by_key = g_df[g_df['learning_rate']==lr]\n",
    "    df_by_key = df_by_key[(df_by_key['perplexity']<1000) & (df_by_key['perplexity']>=1.0)]\n",
    "    x_data = df_by_key['perplexity'] if not use_log_x else np.log(df_by_key['perplexity'])\n",
    "    \n",
    "    base_data = _standardize(df_by_key[base_line])    \n",
    "    \n",
    "    traces = []\n",
    "    for line_name, is_neg in other_lines:\n",
    "        line_data = df_by_key[line_name] * (-1 if is_neg else 1)\n",
    "        line_data = _standardize(line_data)\n",
    "        trace_data = (base_data - line_data).abs()\n",
    "        \n",
    "        trace = go.Scatter(\n",
    "            x=x_data,\n",
    "            y=trace_data,\n",
    "            name=line_name,\n",
    "            line = {'shape': 'spline'},\n",
    "        )\n",
    "        traces.append(trace)\n",
    "\n",
    "    layout = go.Layout(\n",
    "        title='Difference between NLL and metric scores [learning_rate = {}]'.format(lr),\n",
    "        autosize=False,\n",
    "        xaxis=dict(\n",
    "            tickvals=np.log(df_by_key['perplexity']),\n",
    "            ticktext=df_by_key['perplexity'],\n",
    "            title='Perplexity in log-scale'\n",
    "        ) if use_log_x else dict(title='Perplexity'),\n",
    "    )\n",
    "    fig = go.Figure(data=traces, layout=layout)\n",
    "    iplot(fig)"
   ]
  },
  {
   "cell_type": "code",
   "execution_count": 16,
   "metadata": {},
   "outputs": [
    {
     "data": {
      "application/vnd.jupyter.widget-view+json": {
       "model_id": "54959bd8ce834c3bbab8764c4588a6f7",
       "version_major": 2,
       "version_minor": 0
      },
      "text/plain": [
       "A Jupyter Widget"
      ]
     },
     "metadata": {},
     "output_type": "display_data"
    }
   ],
   "source": [
    "@interact(dataset_name=datasetX, use_log_x=useLogXAxisX)\n",
    "def plot_comparing_lines(dataset_name, use_log_x):\n",
    "    global g_df\n",
    "    g_df = load_df(dataset_name)\n",
    "    \n",
    "    base_line = 'q_link'\n",
    "    other_lines = [\n",
    "        ('auc_rnx', True),\n",
    "        ('cca_stress', False),\n",
    "        ('mds_isotonic', True),\n",
    "        ('pearsonr', True),\n",
    "        ('sammon_nlm', True)\n",
    "    ]\n",
    "    _compare_lines(base_line, other_lines, use_log_x, lr=100.0)"
   ]
  },
  {
   "cell_type": "code",
   "execution_count": 43,
   "metadata": {
    "scrolled": false
   },
   "outputs": [
    {
     "data": {
      "application/vnd.plotly.v1+json": {
       "data": [
        {
         "name": "auc_rnx",
         "type": "bar",
         "x": [
          "MNIST-SMALL",
          "MNIST-2000",
          "COIL20",
          "COUNTRY1999",
          "COUNTRY2014",
          "CARS04",
          "BREAST-CANCER95",
          "DIABETES",
          "MPI"
         ],
         "y": [
          0.03097405131819564,
          0.18420138561745647,
          0.1169072729814844,
          0.23167994744230247,
          0.6312053289323136,
          0.3471484536321007,
          0.2183769243107676,
          0.7917658876364839,
          0.2179283126488446
         ]
        },
        {
         "name": "auc_rnx",
         "type": "scatter",
         "x": [
          "MNIST-SMALL",
          "MNIST-2000",
          "COIL20",
          "COUNTRY1999",
          "COUNTRY2014",
          "CARS04",
          "BREAST-CANCER95",
          "DIABETES",
          "MPI"
         ],
         "y": [
          0.27920286425678587,
          0.5125634527437937,
          0.12957669302518227,
          1.2185908336155824,
          1.3921024107541988,
          0.8666157805933906,
          0.3879211455305195,
          0.7232477257959746,
          0.9207164214245084
         ]
        },
        {
         "name": "cca_stress",
         "type": "bar",
         "x": [
          "MNIST-SMALL",
          "MNIST-2000",
          "COIL20",
          "COUNTRY1999",
          "COUNTRY2014",
          "CARS04",
          "BREAST-CANCER95",
          "DIABETES",
          "MPI"
         ],
         "y": [
          0.4285675044944547,
          1.1011649442958238,
          0.650341098560737,
          0.4779707314008249,
          0.9248416894352213,
          0.24776018235378106,
          0.26056505618781356,
          0.5515079201709159,
          0.3269296210749726
         ]
        },
        {
         "name": "cca_stress",
         "type": "scatter",
         "x": [
          "MNIST-SMALL",
          "MNIST-2000",
          "COIL20",
          "COUNTRY1999",
          "COUNTRY2014",
          "CARS04",
          "BREAST-CANCER95",
          "DIABETES",
          "MPI"
         ],
         "y": [
          0.0659101725143526,
          0.1666316573950284,
          0.3713753496809209,
          1.031132143395388,
          1.1034182009182198,
          0.49343515333567123,
          0.10028651516130971,
          0.2569667454961081,
          0.7816475460774374
         ]
        },
        {
         "name": "mds_isotonic",
         "type": "bar",
         "x": [
          "MNIST-SMALL",
          "MNIST-2000",
          "COIL20",
          "COUNTRY1999",
          "COUNTRY2014",
          "CARS04",
          "BREAST-CANCER95",
          "DIABETES",
          "MPI"
         ],
         "y": [
          0.637009021103228,
          1.3113916040854594,
          0.9213241851900861,
          0.7814056792076288,
          1.1155343200450065,
          0.2849408141066505,
          0.3760697672326584,
          0.5515922869308121,
          0.5493652713901214
         ]
        },
        {
         "name": "mds_isotonic",
         "type": "scatter",
         "x": [
          "MNIST-SMALL",
          "MNIST-2000",
          "COIL20",
          "COUNTRY1999",
          "COUNTRY2014",
          "CARS04",
          "BREAST-CANCER95",
          "DIABETES",
          "MPI"
         ],
         "y": [
          0.18010627847581118,
          0.2703359770797168,
          0.5382444350488489,
          0.7201300892141498,
          0.8832769964181787,
          0.4494350358085404,
          0.054532624547595554,
          0.1336908540906948,
          0.4976298540627394
         ]
        },
        {
         "name": "pearsonr",
         "type": "bar",
         "x": [
          "MNIST-SMALL",
          "MNIST-2000",
          "COIL20",
          "COUNTRY1999",
          "COUNTRY2014",
          "CARS04",
          "BREAST-CANCER95",
          "DIABETES",
          "MPI"
         ],
         "y": [
          0.4362012400062766,
          1.0595348188949347,
          0.6908006561492275,
          0.5708723238363675,
          0.9976564178121248,
          0.256906589792229,
          0.2613546447230404,
          0.5475859050581704,
          0.4338739676972362
         ]
        },
        {
         "name": "pearsonr",
         "type": "scatter",
         "x": [
          "MNIST-SMALL",
          "MNIST-2000",
          "COIL20",
          "COUNTRY1999",
          "COUNTRY2014",
          "CARS04",
          "BREAST-CANCER95",
          "DIABETES",
          "MPI"
         ],
         "y": [
          0.07681028442462401,
          0.16062029921543164,
          0.40276734139372405,
          0.9278755807063339,
          0.9661826599882777,
          0.5217721826786597,
          0.08794846861081718,
          0.2291736887975394,
          0.6201165472425634
         ]
        },
        {
         "name": "sammon_nlm",
         "type": "bar",
         "x": [
          "MNIST-SMALL",
          "MNIST-2000",
          "COIL20",
          "COUNTRY1999",
          "COUNTRY2014",
          "CARS04",
          "BREAST-CANCER95",
          "DIABETES",
          "MPI"
         ],
         "y": [
          0.5900334124754024,
          0.8668681061425958,
          1.1754094102050596,
          1.7068025765785262,
          1.3221061627291568,
          1.790453836416088,
          1.7527282863466498,
          1.3661006234997108,
          1.735401176671632
         ]
        },
        {
         "name": "sammon_nlm",
         "type": "scatter",
         "x": [
          "MNIST-SMALL",
          "MNIST-2000",
          "COIL20",
          "COUNTRY1999",
          "COUNTRY2014",
          "CARS04",
          "BREAST-CANCER95",
          "DIABETES",
          "MPI"
         ],
         "y": [
          0.8530356699979081,
          0.6931796201697726,
          0.8851167657169385,
          0.6702209201288708,
          0.4583767377574105,
          1.56557023036608,
          1.8840120421308488,
          1.6702657684679412,
          1.0989717212321177
         ]
        }
       ],
       "layout": {}
      },
      "text/html": [
       "<div id=\"1ce00f6d-cc0f-43fc-b80c-cce6cc6f3f39\" style=\"height: 525px; width: 100%;\" class=\"plotly-graph-div\"></div><script type=\"text/javascript\">require([\"plotly\"], function(Plotly) { window.PLOTLYENV=window.PLOTLYENV || {};window.PLOTLYENV.BASE_URL=\"https://plot.ly\";Plotly.newPlot(\"1ce00f6d-cc0f-43fc-b80c-cce6cc6f3f39\", [{\"type\": \"bar\", \"x\": [\"MNIST-SMALL\", \"MNIST-2000\", \"COIL20\", \"COUNTRY1999\", \"COUNTRY2014\", \"CARS04\", \"BREAST-CANCER95\", \"DIABETES\", \"MPI\"], \"y\": [0.03097405131819564, 0.18420138561745647, 0.1169072729814844, 0.23167994744230247, 0.6312053289323136, 0.3471484536321007, 0.2183769243107676, 0.7917658876364839, 0.2179283126488446], \"name\": \"auc_rnx\"}, {\"type\": \"scatter\", \"x\": [\"MNIST-SMALL\", \"MNIST-2000\", \"COIL20\", \"COUNTRY1999\", \"COUNTRY2014\", \"CARS04\", \"BREAST-CANCER95\", \"DIABETES\", \"MPI\"], \"y\": [0.27920286425678587, 0.5125634527437937, 0.12957669302518227, 1.2185908336155824, 1.3921024107541988, 0.8666157805933906, 0.3879211455305195, 0.7232477257959746, 0.9207164214245084], \"name\": \"auc_rnx\"}, {\"type\": \"bar\", \"x\": [\"MNIST-SMALL\", \"MNIST-2000\", \"COIL20\", \"COUNTRY1999\", \"COUNTRY2014\", \"CARS04\", \"BREAST-CANCER95\", \"DIABETES\", \"MPI\"], \"y\": [0.4285675044944547, 1.1011649442958238, 0.650341098560737, 0.4779707314008249, 0.9248416894352213, 0.24776018235378106, 0.26056505618781356, 0.5515079201709159, 0.3269296210749726], \"name\": \"cca_stress\"}, {\"type\": \"scatter\", \"x\": [\"MNIST-SMALL\", \"MNIST-2000\", \"COIL20\", \"COUNTRY1999\", \"COUNTRY2014\", \"CARS04\", \"BREAST-CANCER95\", \"DIABETES\", \"MPI\"], \"y\": [0.0659101725143526, 0.1666316573950284, 0.3713753496809209, 1.031132143395388, 1.1034182009182198, 0.49343515333567123, 0.10028651516130971, 0.2569667454961081, 0.7816475460774374], \"name\": \"cca_stress\"}, {\"type\": \"bar\", \"x\": [\"MNIST-SMALL\", \"MNIST-2000\", \"COIL20\", \"COUNTRY1999\", \"COUNTRY2014\", \"CARS04\", \"BREAST-CANCER95\", \"DIABETES\", \"MPI\"], \"y\": [0.637009021103228, 1.3113916040854594, 0.9213241851900861, 0.7814056792076288, 1.1155343200450065, 0.2849408141066505, 0.3760697672326584, 0.5515922869308121, 0.5493652713901214], \"name\": \"mds_isotonic\"}, {\"type\": \"scatter\", \"x\": [\"MNIST-SMALL\", \"MNIST-2000\", \"COIL20\", \"COUNTRY1999\", \"COUNTRY2014\", \"CARS04\", \"BREAST-CANCER95\", \"DIABETES\", \"MPI\"], \"y\": [0.18010627847581118, 0.2703359770797168, 0.5382444350488489, 0.7201300892141498, 0.8832769964181787, 0.4494350358085404, 0.054532624547595554, 0.1336908540906948, 0.4976298540627394], \"name\": \"mds_isotonic\"}, {\"type\": \"bar\", \"x\": [\"MNIST-SMALL\", \"MNIST-2000\", \"COIL20\", \"COUNTRY1999\", \"COUNTRY2014\", \"CARS04\", \"BREAST-CANCER95\", \"DIABETES\", \"MPI\"], \"y\": [0.4362012400062766, 1.0595348188949347, 0.6908006561492275, 0.5708723238363675, 0.9976564178121248, 0.256906589792229, 0.2613546447230404, 0.5475859050581704, 0.4338739676972362], \"name\": \"pearsonr\"}, {\"type\": \"scatter\", \"x\": [\"MNIST-SMALL\", \"MNIST-2000\", \"COIL20\", \"COUNTRY1999\", \"COUNTRY2014\", \"CARS04\", \"BREAST-CANCER95\", \"DIABETES\", \"MPI\"], \"y\": [0.07681028442462401, 0.16062029921543164, 0.40276734139372405, 0.9278755807063339, 0.9661826599882777, 0.5217721826786597, 0.08794846861081718, 0.2291736887975394, 0.6201165472425634], \"name\": \"pearsonr\"}, {\"type\": \"bar\", \"x\": [\"MNIST-SMALL\", \"MNIST-2000\", \"COIL20\", \"COUNTRY1999\", \"COUNTRY2014\", \"CARS04\", \"BREAST-CANCER95\", \"DIABETES\", \"MPI\"], \"y\": [0.5900334124754024, 0.8668681061425958, 1.1754094102050596, 1.7068025765785262, 1.3221061627291568, 1.790453836416088, 1.7527282863466498, 1.3661006234997108, 1.735401176671632], \"name\": \"sammon_nlm\"}, {\"type\": \"scatter\", \"x\": [\"MNIST-SMALL\", \"MNIST-2000\", \"COIL20\", \"COUNTRY1999\", \"COUNTRY2014\", \"CARS04\", \"BREAST-CANCER95\", \"DIABETES\", \"MPI\"], \"y\": [0.8530356699979081, 0.6931796201697726, 0.8851167657169385, 0.6702209201288708, 0.4583767377574105, 1.56557023036608, 1.8840120421308488, 1.6702657684679412, 1.0989717212321177], \"name\": \"sammon_nlm\"}], {}, {\"showLink\": true, \"linkText\": \"Export to plot.ly\"})});</script>"
      ],
      "text/vnd.plotly.v1+html": [
       "<div id=\"1ce00f6d-cc0f-43fc-b80c-cce6cc6f3f39\" style=\"height: 525px; width: 100%;\" class=\"plotly-graph-div\"></div><script type=\"text/javascript\">require([\"plotly\"], function(Plotly) { window.PLOTLYENV=window.PLOTLYENV || {};window.PLOTLYENV.BASE_URL=\"https://plot.ly\";Plotly.newPlot(\"1ce00f6d-cc0f-43fc-b80c-cce6cc6f3f39\", [{\"type\": \"bar\", \"x\": [\"MNIST-SMALL\", \"MNIST-2000\", \"COIL20\", \"COUNTRY1999\", \"COUNTRY2014\", \"CARS04\", \"BREAST-CANCER95\", \"DIABETES\", \"MPI\"], \"y\": [0.03097405131819564, 0.18420138561745647, 0.1169072729814844, 0.23167994744230247, 0.6312053289323136, 0.3471484536321007, 0.2183769243107676, 0.7917658876364839, 0.2179283126488446], \"name\": \"auc_rnx\"}, {\"type\": \"scatter\", \"x\": [\"MNIST-SMALL\", \"MNIST-2000\", \"COIL20\", \"COUNTRY1999\", \"COUNTRY2014\", \"CARS04\", \"BREAST-CANCER95\", \"DIABETES\", \"MPI\"], \"y\": [0.27920286425678587, 0.5125634527437937, 0.12957669302518227, 1.2185908336155824, 1.3921024107541988, 0.8666157805933906, 0.3879211455305195, 0.7232477257959746, 0.9207164214245084], \"name\": \"auc_rnx\"}, {\"type\": \"bar\", \"x\": [\"MNIST-SMALL\", \"MNIST-2000\", \"COIL20\", \"COUNTRY1999\", \"COUNTRY2014\", \"CARS04\", \"BREAST-CANCER95\", \"DIABETES\", \"MPI\"], \"y\": [0.4285675044944547, 1.1011649442958238, 0.650341098560737, 0.4779707314008249, 0.9248416894352213, 0.24776018235378106, 0.26056505618781356, 0.5515079201709159, 0.3269296210749726], \"name\": \"cca_stress\"}, {\"type\": \"scatter\", \"x\": [\"MNIST-SMALL\", \"MNIST-2000\", \"COIL20\", \"COUNTRY1999\", \"COUNTRY2014\", \"CARS04\", \"BREAST-CANCER95\", \"DIABETES\", \"MPI\"], \"y\": [0.0659101725143526, 0.1666316573950284, 0.3713753496809209, 1.031132143395388, 1.1034182009182198, 0.49343515333567123, 0.10028651516130971, 0.2569667454961081, 0.7816475460774374], \"name\": \"cca_stress\"}, {\"type\": \"bar\", \"x\": [\"MNIST-SMALL\", \"MNIST-2000\", \"COIL20\", \"COUNTRY1999\", \"COUNTRY2014\", \"CARS04\", \"BREAST-CANCER95\", \"DIABETES\", \"MPI\"], \"y\": [0.637009021103228, 1.3113916040854594, 0.9213241851900861, 0.7814056792076288, 1.1155343200450065, 0.2849408141066505, 0.3760697672326584, 0.5515922869308121, 0.5493652713901214], \"name\": \"mds_isotonic\"}, {\"type\": \"scatter\", \"x\": [\"MNIST-SMALL\", \"MNIST-2000\", \"COIL20\", \"COUNTRY1999\", \"COUNTRY2014\", \"CARS04\", \"BREAST-CANCER95\", \"DIABETES\", \"MPI\"], \"y\": [0.18010627847581118, 0.2703359770797168, 0.5382444350488489, 0.7201300892141498, 0.8832769964181787, 0.4494350358085404, 0.054532624547595554, 0.1336908540906948, 0.4976298540627394], \"name\": \"mds_isotonic\"}, {\"type\": \"bar\", \"x\": [\"MNIST-SMALL\", \"MNIST-2000\", \"COIL20\", \"COUNTRY1999\", \"COUNTRY2014\", \"CARS04\", \"BREAST-CANCER95\", \"DIABETES\", \"MPI\"], \"y\": [0.4362012400062766, 1.0595348188949347, 0.6908006561492275, 0.5708723238363675, 0.9976564178121248, 0.256906589792229, 0.2613546447230404, 0.5475859050581704, 0.4338739676972362], \"name\": \"pearsonr\"}, {\"type\": \"scatter\", \"x\": [\"MNIST-SMALL\", \"MNIST-2000\", \"COIL20\", \"COUNTRY1999\", \"COUNTRY2014\", \"CARS04\", \"BREAST-CANCER95\", \"DIABETES\", \"MPI\"], \"y\": [0.07681028442462401, 0.16062029921543164, 0.40276734139372405, 0.9278755807063339, 0.9661826599882777, 0.5217721826786597, 0.08794846861081718, 0.2291736887975394, 0.6201165472425634], \"name\": \"pearsonr\"}, {\"type\": \"bar\", \"x\": [\"MNIST-SMALL\", \"MNIST-2000\", \"COIL20\", \"COUNTRY1999\", \"COUNTRY2014\", \"CARS04\", \"BREAST-CANCER95\", \"DIABETES\", \"MPI\"], \"y\": [0.5900334124754024, 0.8668681061425958, 1.1754094102050596, 1.7068025765785262, 1.3221061627291568, 1.790453836416088, 1.7527282863466498, 1.3661006234997108, 1.735401176671632], \"name\": \"sammon_nlm\"}, {\"type\": \"scatter\", \"x\": [\"MNIST-SMALL\", \"MNIST-2000\", \"COIL20\", \"COUNTRY1999\", \"COUNTRY2014\", \"CARS04\", \"BREAST-CANCER95\", \"DIABETES\", \"MPI\"], \"y\": [0.8530356699979081, 0.6931796201697726, 0.8851167657169385, 0.6702209201288708, 0.4583767377574105, 1.56557023036608, 1.8840120421308488, 1.6702657684679412, 1.0989717212321177], \"name\": \"sammon_nlm\"}], {}, {\"showLink\": true, \"linkText\": \"Export to plot.ly\"})});</script>"
      ]
     },
     "metadata": {},
     "output_type": "display_data"
    }
   ],
   "source": [
    "def sum_lines(lr=100.0):\n",
    "    datasets = [\n",
    "        'MNIST-SMALL',\n",
    "        'MNIST-2000',\n",
    "        'COIL20',\n",
    "        'COUNTRY1999',\n",
    "        # 'COUNTRY2013',\n",
    "        'COUNTRY2014',\n",
    "        # 'COUNTRY2015',\n",
    "        'CARS04',\n",
    "        'BREAST-CANCER95',\n",
    "        'DIABETES',\n",
    "        'MPI'\n",
    "    ]\n",
    "    lines = [\n",
    "        ('auc_rnx', True),\n",
    "        ('cca_stress', False),\n",
    "        ('mds_isotonic', False),\n",
    "        ('pearsonr', True),\n",
    "        ('sammon_nlm', True)\n",
    "    ]\n",
    "    traces_data = {line_name: [] for line_name, _ in lines}\n",
    "    sims = {line_name: [] for line_name, _ in lines}\n",
    "    for dataset in datasets:\n",
    "        df = load_df(dataset)\n",
    "        df_by_key = df[df['learning_rate']==lr]\n",
    "        df_by_key = df_by_key[(df_by_key['perplexity']<1000) & (df_by_key['perplexity']>=1.0)]\n",
    "        \n",
    "        q_links = _standardize(df_by_key['q_link'])\n",
    "        q_mls = _standardize(df_by_key['q_ml'])\n",
    "        q_cls = _standardize(df_by_key['q_cl'])\n",
    "        \n",
    "        for line_name, is_neg in lines:\n",
    "            line_data = df_by_key[line_name] * (-1 if is_neg else 1)\n",
    "            line_data = _standardize(line_data)\n",
    "            mean_diff = np.mean(np.abs(q_links - line_data))           \n",
    "            sim_qall = cosine(q_links, line_data)\n",
    "            sim_qml = cosine(q_mls, line_data)\n",
    "            sim_qcl = cosine(q_cls, line_data)\n",
    "            \n",
    "            traces_data[line_name].append(sim_qall) # mean_diff\n",
    "            sims[line_name].append(sim_qml) \n",
    "            \n",
    "\n",
    "    traces = []\n",
    "    for line_name, _ in lines:\n",
    "        trace1 = go.Bar(\n",
    "            x=datasets,\n",
    "            y=traces_data[line_name],\n",
    "            name=line_name,\n",
    "        )\n",
    "        trace2 = go.Scatter(\n",
    "            x=datasets,\n",
    "            y=sims[line_name],\n",
    "            name=line_name,\n",
    "        )\n",
    "        traces += [trace1, trace2]\n",
    "    fig = go.Figure(data=traces)\n",
    "    iplot(fig)\n",
    "    \n",
    "sum_lines(lr=100.0)"
   ]
  },
  {
   "cell_type": "markdown",
   "metadata": {
    "extensions": {
     "jupyter_dashboards": {
      "version": 1,
      "views": {
       "grid_default": {
        "col": 8,
        "height": 4,
        "hidden": false,
        "row": 16,
        "width": 4
       },
       "report_default": {}
      }
     }
    }
   },
   "source": [
    "### Scatter2d of the embedded points with pairwise constraints"
   ]
  },
  {
   "cell_type": "code",
   "execution_count": 131,
   "metadata": {
    "extensions": {
     "jupyter_dashboards": {
      "version": 1,
      "views": {
       "grid_default": {
        "col": null,
        "height": 25,
        "hidden": false,
        "row": 55,
        "width": null
       },
       "report_default": {}
      }
     }
    },
    "scrolled": false
   },
   "outputs": [
    {
     "data": {
      "application/vnd.jupyter.widget-view+json": {
       "model_id": "bb75b8c8f1584f3b8ec26abf4e7755d5",
       "version_major": 2,
       "version_minor": 0
      },
      "text/html": [
       "<p>Failed to display Jupyter Widget of type <code>interactive</code>.</p>\n",
       "<p>\n",
       "  If you're reading this message in the Jupyter Notebook or JupyterLab Notebook, it may mean\n",
       "  that the widgets JavaScript is still loading. If this message persists, it\n",
       "  likely means that the widgets JavaScript library is either not installed or\n",
       "  not enabled. See the <a href=\"https://ipywidgets.readthedocs.io/en/stable/user_install.html\">Jupyter\n",
       "  Widgets Documentation</a> for setup instructions.\n",
       "</p>\n",
       "<p>\n",
       "  If you're reading this message in another frontend (for example, a static\n",
       "  rendering on GitHub or <a href=\"https://nbviewer.jupyter.org/\">NBViewer</a>),\n",
       "  it may mean that your frontend doesn't currently support widgets.\n",
       "</p>\n"
      ],
      "text/plain": [
       "interactive(children=(Dropdown(description='Dataset:', options={'Select dataset': '', 'MNIST mini': 'MNIST-SMALL', 'COIL-20': 'COIL20', 'MNIST 2000 samples': 'MNIST-2000', 'Country Indicators 1999': 'COUNTRY1999', 'Country Indicators 2013': 'COUNTRY2013', 'Country Indicators 2014': 'COUNTRY2014', 'Country Indicators 2015': 'COUNTRY2015', 'Cars and Trucks 2004': 'CARS04', 'Breast Cancer Wisconsin (Diagnostic)': 'BREAST-CANCER95', 'Pima Indians Diabetes': 'DIABETES', 'Multidimensional Poverty Measures': 'MPI'}, value=''), Output()), _dom_classes=('widget-interact',))"
      ]
     },
     "metadata": {},
     "output_type": "display_data"
    }
   ],
   "source": [
    "@interact(dataset_name=datasetX)\n",
    "def plot_scatter(dataset_name):\n",
    "    if dataset_name == \"\": return\n",
    "    \n",
    "    in_name = '{}/tsne_{}.pkl'.format(data_folder, dataset_name)\n",
    "    pkl_data = pickle.load(open(in_name, 'rb'))\n",
    "    embeddeds = pkl_data['results']\n",
    "    mustlinks = pkl_data['mustlinks']\n",
    "    cannotlinks = pkl_data['cannotlinnks']\n",
    "    target_labels = pkl_data['target']\n",
    "    print(np.unique(target_labels))\n",
    "    \n",
    "    def pad_then_flatten(a):\n",
    "        b = [(x1, x2, None) for x1, x2 in a]\n",
    "        c = list(sum(b, ()))\n",
    "        return c\n",
    "    \n",
    "    \n",
    "    @interact(lr=lrX, perp=perpX)\n",
    "    def _plot_scatter(lr, perp):\n",
    "        target = next((item for item in embeddeds if item['learning_rate'] == lr and item['perplexity'] == perp))\n",
    "        X_embedded = target['embedding']\n",
    "        \n",
    "        ml_pos = [X_embedded[mustlinks][:, :, 0], X_embedded[mustlinks][:, :, 1]]\n",
    "        cl_pos = [X_embedded[cannotlinks][:, :, 0], X_embedded[cannotlinks][:, :, 1]]\n",
    "                \n",
    "        trace_scatter = go.Scattergl(\n",
    "            x = X_embedded[:,0],\n",
    "            y = X_embedded[:,1],\n",
    "            name = 'X_embedded',\n",
    "            mode='markers',\n",
    "            marker=dict(\n",
    "                size='6',\n",
    "                color = target_labels,\n",
    "                colorscale='Viridis',\n",
    "                opacity=0.7,\n",
    "                # showscale=True\n",
    "            )\n",
    "        )\n",
    "        \n",
    "        trace_ml = go.Scattergl(\n",
    "            x = pad_then_flatten(ml_pos[0]),\n",
    "            y = pad_then_flatten(ml_pos[1]),\n",
    "            connectgaps=False,\n",
    "            name = 'Mustlink',\n",
    "            line = dict(\n",
    "                color = ('rgba(22, 96, 167, 0.4)'),\n",
    "                width = 2,\n",
    "                dash = 'dash'\n",
    "            )\n",
    "            \n",
    "        )\n",
    "        \n",
    "        trace_cl = go.Scattergl(\n",
    "            x = pad_then_flatten(cl_pos[0]),\n",
    "            y = pad_then_flatten(cl_pos[1]),\n",
    "            connectgaps=False,\n",
    "            name = 'Cannotlink',\n",
    "            line = dict(\n",
    "                color = ('rgba(205, 12, 24, 0.4)'),\n",
    "                width = 2,\n",
    "                dash = 'dash'\n",
    "            )\n",
    "        )\n",
    "            \n",
    "        layout = go.Layout(\n",
    "            autosize=True,\n",
    "            width=800,\n",
    "            height=600,\n",
    "            xaxis=dict(\n",
    "                autorange=True,\n",
    "                showgrid=False,\n",
    "                zeroline=False,\n",
    "                showline=False,\n",
    "                autotick=True,\n",
    "                ticks='',\n",
    "                showticklabels=False\n",
    "            ),\n",
    "            yaxis=dict(\n",
    "                autorange=True,\n",
    "                showgrid=False,\n",
    "                zeroline=False,\n",
    "                showline=False,\n",
    "                autotick=True,\n",
    "                ticks='',\n",
    "                showticklabels=True\n",
    "            )\n",
    "        )\n",
    "        fig = go.Figure(data=[trace_scatter, trace_ml, trace_cl], layout=layout)\n",
    "        iplot(fig)"
   ]
  },
  {
   "cell_type": "code",
   "execution_count": null,
   "metadata": {
    "collapsed": true
   },
   "outputs": [],
   "source": []
  }
 ],
 "metadata": {
  "extensions": {
   "jupyter_dashboards": {
    "activeView": "grid_default",
    "version": 1,
    "views": {
     "grid_default": {
      "cellMargin": 10,
      "defaultCellHeight": 20,
      "maxColumns": 12,
      "name": "grid",
      "type": "grid"
     },
     "report_default": {
      "name": "report",
      "type": "report"
     }
    }
   }
  },
  "kernelspec": {
   "display_name": "Python 3",
   "language": "python",
   "name": "python3"
  },
  "language_info": {
   "codemirror_mode": {
    "name": "ipython",
    "version": 3
   },
   "file_extension": ".py",
   "mimetype": "text/x-python",
   "name": "python",
   "nbconvert_exporter": "python",
   "pygments_lexer": "ipython3",
   "version": "3.6.2"
  }
 },
 "nbformat": 4,
 "nbformat_minor": 2
}
