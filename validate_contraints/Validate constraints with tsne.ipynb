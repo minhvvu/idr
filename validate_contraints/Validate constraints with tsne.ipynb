{
 "cells": [
  {
   "cell_type": "markdown",
   "metadata": {
    "extensions": {
     "jupyter_dashboards": {
      "version": 1,
      "views": {
       "grid_default": {
        "col": 0,
        "height": 4,
        "hidden": false,
        "row": 0,
        "width": 12
       },
       "report_default": {}
      }
     }
    }
   },
   "source": [
    "## Validating the pairwise constraints with Metric scores for t-SNE"
   ]
  },
  {
   "cell_type": "code",
   "execution_count": 1,
   "metadata": {
    "collapsed": true,
    "extensions": {
     "jupyter_dashboards": {
      "version": 1,
      "views": {
       "grid_default": {
        "hidden": true
       },
       "report_default": {
        "hidden": true
       }
      }
     }
    }
   },
   "outputs": [],
   "source": [
    "import numpy as np\n",
    "import pandas as pd\n",
    "import pickle\n",
    "\n",
    "# folder containing the pre-calculated metrics and negative log likelihood for the constrained pairs\n",
    "data_folder = 'output_tsne'"
   ]
  },
  {
   "cell_type": "code",
   "execution_count": 2,
   "metadata": {
    "extensions": {
     "jupyter_dashboards": {
      "version": 1,
      "views": {
       "grid_default": {
        "col": 0,
        "height": 4,
        "hidden": true,
        "row": 0,
        "width": 4
       },
       "report_default": {
        "hidden": true
       }
      }
     }
    }
   },
   "outputs": [
    {
     "data": {
      "text/html": [
       "<script>requirejs.config({paths: { 'plotly': ['https://cdn.plot.ly/plotly-latest.min']},});if(!window.Plotly) {{require(['plotly'],function(plotly) {window.Plotly=plotly;});}}</script>"
      ],
      "text/vnd.plotly.v1+html": [
       "<script>requirejs.config({paths: { 'plotly': ['https://cdn.plot.ly/plotly-latest.min']},});if(!window.Plotly) {{require(['plotly'],function(plotly) {window.Plotly=plotly;});}}</script>"
      ]
     },
     "metadata": {},
     "output_type": "display_data"
    }
   ],
   "source": [
    "# using plotly for notebook in offline mode\n",
    "import plotly.plotly as py\n",
    "import plotly.graph_objs as go\n",
    "\n",
    "from plotly.offline import download_plotlyjs, init_notebook_mode, plot, iplot\n",
    "init_notebook_mode(connected=True)"
   ]
  },
  {
   "cell_type": "code",
   "execution_count": 3,
   "metadata": {
    "collapsed": true,
    "extensions": {
     "jupyter_dashboards": {
      "version": 1,
      "views": {
       "grid_default": {
        "hidden": true
       },
       "report_default": {
        "hidden": true
       }
      }
     }
    }
   },
   "outputs": [],
   "source": [
    "# using some gui elements (widgets) of ipython notebook: selection-box, check-box, slider\n",
    "import ipywidgets as widgets\n",
    "from ipywidgets import interact, interactive_output"
   ]
  },
  {
   "cell_type": "markdown",
   "metadata": {
    "extensions": {
     "jupyter_dashboards": {
      "version": 1,
      "views": {
       "grid_default": {
        "col": 4,
        "height": 4,
        "hidden": true,
        "row": 4,
        "width": 4
       },
       "report_default": {}
      }
     }
    }
   },
   "source": [
    "### Util functions for loading data and plotting"
   ]
  },
  {
   "cell_type": "code",
   "execution_count": 4,
   "metadata": {
    "collapsed": true,
    "extensions": {
     "jupyter_dashboards": {
      "version": 1,
      "views": {
       "grid_default": {
        "hidden": true
       },
       "report_default": {
        "hidden": true
       }
      }
     }
    }
   },
   "outputs": [],
   "source": [
    "def load_df(dataset_name):\n",
    "    \"\"\"Load data from pickle file\n",
    "        The result is a list of object (dict), which then be converted into pandas dataframe\n",
    "    \"\"\"\n",
    "    if dataset_name == \"\": return None\n",
    "    \n",
    "    in_name = '{}/tsne_{}.pkl'.format(data_folder, dataset_name)\n",
    "    pkl_data = pickle.load(open(in_name, 'rb'))\n",
    "    embeddeds = pkl_data['results']\n",
    "    df = pd.DataFrame.from_records(embeddeds, exclude=[\"embedding\"])\n",
    "    return df\n",
    "\n",
    "# global dataframe\n",
    "g_df = load_df('MNIST-SMALL')"
   ]
  },
  {
   "cell_type": "code",
   "execution_count": 5,
   "metadata": {
    "collapsed": true,
    "extensions": {
     "jupyter_dashboards": {
      "version": 1,
      "views": {
       "grid_default": {
        "col": 0,
        "height": 4,
        "hidden": true,
        "row": 0,
        "width": 4
       },
       "report_default": {
        "hidden": true
       }
      }
     }
    }
   },
   "outputs": [],
   "source": [
    "def _plot_surface(pivot_data, z_title='', chart_title=''):\n",
    "    \"\"\"Using plotly to plot the 3d surface of cost function, or metric scores\n",
    "    \"\"\"\n",
    "    perps = pivot_data.columns\n",
    "    lrs = pivot_data.transpose().columns\n",
    "    data = [\n",
    "        go.Surface(\n",
    "            x = perps,\n",
    "            y = lrs,\n",
    "            z=pivot_data.as_matrix(),\n",
    "        )\n",
    "    ]\n",
    "    layout = go.Layout(\n",
    "        title=chart_title,\n",
    "        autosize=True,\n",
    "        width=600,\n",
    "        height=600,\n",
    "        margin=dict(\n",
    "            l=65,\n",
    "            r=50,\n",
    "            b=65,\n",
    "            t=90\n",
    "        ),\n",
    "        scene = dict(\n",
    "            xaxis = dict(\n",
    "                title='Perplexity'),\n",
    "            yaxis = dict(\n",
    "                title='Learning rate'),\n",
    "            zaxis = dict(\n",
    "                title=z_title),\n",
    "        ),\n",
    "    )\n",
    "    fig = go.Figure(data=data, layout=layout)\n",
    "    iplot(fig, filename='./plotly_output/test-3d-surface.html')"
   ]
  },
  {
   "cell_type": "code",
   "execution_count": 79,
   "metadata": {
    "collapsed": true,
    "extensions": {
     "jupyter_dashboards": {
      "version": 1,
      "views": {
       "grid_default": {
        "hidden": true
       },
       "report_default": {
        "hidden": true
       }
      }
     }
    }
   },
   "outputs": [],
   "source": [
    "def _plot_lines_by_key(key_name, key_val, use_log_x, use_log_y, show_inverse, show_neg):\n",
    "    \"\"\"Plot multiple lines, each line is a column in filtered dataframe (by input `key_name`)\n",
    "    \"\"\"\n",
    "    global g_df\n",
    "    if g_df is None: return\n",
    "    \n",
    "    if key_name == 'perplexity':\n",
    "        df_by_key = g_df[g_df[key_name]==key_val]\n",
    "        x_data = np.log(df_by_key['learning_rate']) if use_log_x else df_by_key['learning_rate']\n",
    "    else: # learning_rate\n",
    "        df_by_key = g_df[g_df[key_name]==key_val]\n",
    "        x_data = np.log(df_by_key['perplexity']) if use_log_x else df_by_key['perplexity']\n",
    "    \n",
    "    # customized functions that can be applied onto the y-values\n",
    "    _inverse = lambda y: np.divide(1.0, y, out=np.zeros_like(y), where=(y != 0))\n",
    "    _negative = lambda y: -y\n",
    "    \n",
    "    line_names = [\n",
    "        # (line_name, display_name, show_by_default, can_modify)\n",
    "        ('q_link', '[] -log(links) in low dim.', True, False),\n",
    "        ('p_link', '[] -log(links) in high dim.', False, False),\n",
    "        ('loss', '[] KL loss', True, False),\n",
    "        ('auc_rnx', '[*] logRNX', True, True),\n",
    "        ('cca_stress', '[*] CCA Stress', False, True),\n",
    "        ('mds_isotonic', '[*] MDS Stress', False, True),\n",
    "        ('pearsonr', '[*] Corr. Coef.', True, True),\n",
    "        ('sammon_nlm', '[*] Sammon NLM', True, True)\n",
    "    ]\n",
    "    \n",
    "    plot_data = []\n",
    "    for line_name, display_name, show_by_default, can_modify in line_names:\n",
    "        y = df_by_key[line_name]\n",
    "        y_data = np.log(y) if use_log_y else y\n",
    "        if can_modify:\n",
    "            if show_inverse: y_data = _inverse(y_data)\n",
    "            if show_neg: y_data = _negative(y_data)\n",
    "            \n",
    "        trace_i = go.Scatter(\n",
    "            x = x_data,\n",
    "            y = y_data,\n",
    "            name = display_name,\n",
    "            mode = 'lines+markers',\n",
    "            line = {'shape': 'spline'},\n",
    "            visible= '' if show_by_default else 'legendonly'\n",
    "        )\n",
    "        plot_data.append(trace_i)\n",
    "    \n",
    "    \n",
    "    layout = dict(\n",
    "        title = 'Metric values / NLL [{}  = {}]'.format(key_name, key_val),\n",
    "        xaxis = dict(title = '{} {}'.format(\n",
    "          'Log of ' if use_log_x else '',\n",
    "          'Learning rate' if key_name == 'perplexity' else 'Perplexity')),\n",
    "        yaxis = dict(title = '{} {}'.format(\n",
    "          'Log of ' if use_log_y else '', 'Metrics value / negative LL')),\n",
    "        autosize=False\n",
    "    )\n",
    "        \n",
    "    fig = go.Figure(data=plot_data, layout=layout)\n",
    "    iplot(fig)"
   ]
  },
  {
   "cell_type": "code",
   "execution_count": 7,
   "metadata": {
    "collapsed": true,
    "extensions": {
     "jupyter_dashboards": {
      "version": 1,
      "views": {
       "grid_default": {
        "hidden": true
       },
       "report_default": {
        "hidden": true
       }
      }
     }
    }
   },
   "outputs": [],
   "source": [
    "# UI controls\n",
    "\n",
    "datasetX = widgets.Dropdown(\n",
    "    options={\n",
    "        \"Select dataset\": \"\",\n",
    "        \"MNIST mini\": \"MNIST-SMALL\",\n",
    "        \"COIL-20\": \"COIL20\",\n",
    "        \"MNIST 2000 samples\": \"MNIST-2000\",\n",
    "        \"Country Indicators 1999\": \"COUNTRY1999\",\n",
    "        \"Country Indicators 2013\": \"COUNTRY2013\",\n",
    "        \"Country Indicators 2014\": \"COUNTRY2014\",\n",
    "        \"Country Indicators 2015\": \"COUNTRY2015\",\n",
    "        \"Cars and Trucks 2004\": \"CARS04\",\n",
    "        \"Breast Cancer Wisconsin (Diagnostic)\": \"BREAST-CANCER95\",\n",
    "        \"Pima Indians Diabetes\": \"DIABETES\",\n",
    "        \"Multidimensional Poverty Measures\": \"MPI\"\n",
    "    },\n",
    "    value='',\n",
    "    description='Dataset:',\n",
    ")\n",
    "\n",
    "pivotKeyX = widgets.Dropdown(\n",
    "    options={\n",
    "        'Negative log likelihood in low dim.': 'q_link',\n",
    "        'Negative log likelihood in high dim.': 'p_link',\n",
    "        'KL-loss': 'loss',\n",
    "        'AUC R_NX': 'auc_rnx',\n",
    "        'CorrCoef': 'pearsonr',\n",
    "        'MDS Stress': 'mds_isotonic',\n",
    "        'CCA Stress': 'cca_stress',\n",
    "        'Sammon NLM': 'sammon_nlm'\n",
    "\n",
    "    },\n",
    "    value='q_link',\n",
    "    description='Surface: ',\n",
    ")\n",
    "\n",
    "lrX = widgets.SelectionSlider(\n",
    "    options=g_df['learning_rate'].unique(),\n",
    "    value=100.0,\n",
    "    description='LR ($\\lambda$): '\n",
    ")\n",
    "\n",
    "perpX = widgets.SelectionSlider(\n",
    "    options=g_df['perplexity'].unique(),\n",
    "    value=50.0,\n",
    "    description='Perplexity: '\n",
    ")\n",
    "\n",
    "useLogXAxisX = widgets.Checkbox(\n",
    "    description='Log scale in xAxis',\n",
    "    value=False,\n",
    ")\n",
    "\n",
    "useLogYAxisX = widgets.Checkbox(\n",
    "    description='Log scale in yAxis',\n",
    "    value=False,\n",
    ")\n",
    "\n",
    "showNegativeX = widgets.Checkbox(\n",
    "    description='Negative stress func. [*]',\n",
    "    value=True,\n",
    ")\n",
    "\n",
    "showInverseX = widgets.Checkbox(\n",
    "    description='Inverse stress func. [*]',\n",
    "    value=False,\n",
    ")\n",
    "\n",
    "useSameAxisX = widgets.Checkbox(\n",
    "    description='Use same yAxis',\n",
    "    value=False,\n",
    ")\n",
    "\n",
    "line1NameX = widgets.Dropdown(\n",
    "    options=g_df.columns,\n",
    "    description='Line1: '\n",
    ")\n",
    "\n",
    "line2NameX = widgets.Dropdown(\n",
    "    options=g_df.columns,\n",
    "    description='Line2: '\n",
    ")"
   ]
  },
  {
   "cell_type": "markdown",
   "metadata": {
    "extensions": {
     "jupyter_dashboards": {
      "version": 1,
      "views": {
       "grid_default": {
        "col": 8,
        "height": 4,
        "hidden": false,
        "row": 4,
        "width": 4
       },
       "report_default": {}
      }
     }
    }
   },
   "source": [
    "### 3D surface of KL-loss, NLL or Metric scores"
   ]
  },
  {
   "cell_type": "code",
   "execution_count": 8,
   "metadata": {
    "extensions": {
     "jupyter_dashboards": {
      "version": 1,
      "views": {
       "grid_default": {
        "col": null,
        "height": 13,
        "hidden": false,
        "row": 20,
        "width": null
       },
       "report_default": {
        "hidden": true
       }
      }
     }
    },
    "scrolled": false
   },
   "outputs": [
    {
     "data": {
      "application/vnd.jupyter.widget-view+json": {
       "model_id": "0e77a6f606574ab781ce52b5042f9c50",
       "version_major": 2,
       "version_minor": 0
      },
      "text/html": [
       "<p>Failed to display Jupyter Widget of type <code>interactive</code>.</p>\n",
       "<p>\n",
       "  If you're reading this message in the Jupyter Notebook or JupyterLab Notebook, it may mean\n",
       "  that the widgets JavaScript is still loading. If this message persists, it\n",
       "  likely means that the widgets JavaScript library is either not installed or\n",
       "  not enabled. See the <a href=\"https://ipywidgets.readthedocs.io/en/stable/user_install.html\">Jupyter\n",
       "  Widgets Documentation</a> for setup instructions.\n",
       "</p>\n",
       "<p>\n",
       "  If you're reading this message in another frontend (for example, a static\n",
       "  rendering on GitHub or <a href=\"https://nbviewer.jupyter.org/\">NBViewer</a>),\n",
       "  it may mean that your frontend doesn't currently support widgets.\n",
       "</p>\n"
      ],
      "text/plain": [
       "interactive(children=(Dropdown(description='Dataset:', options={'Select dataset': '', 'MNIST mini': 'MNIST-SMALL', 'COIL-20': 'COIL20', 'MNIST 2000 samples': 'MNIST-2000', 'Country Indicators 1999': 'COUNTRY1999', 'Country Indicators 2013': 'COUNTRY2013', 'Country Indicators 2014': 'COUNTRY2014', 'Country Indicators 2015': 'COUNTRY2015', 'Cars and Trucks 2004': 'CARS04', 'Breast Cancer Wisconsin (Diagnostic)': 'BREAST-CANCER95', 'Pima Indians Diabetes': 'DIABETES', 'Multidimensional Poverty Measures': 'MPI'}, value=''), Output()), _dom_classes=('widget-interact',))"
      ]
     },
     "metadata": {},
     "output_type": "display_data"
    }
   ],
   "source": [
    "# interactive plot for plotting the 3d surface\n",
    "\n",
    "@interact(dataset_name=datasetX)\n",
    "def select_dataset(dataset_name):   \n",
    "    global g_df\n",
    "    g_df = load_df(dataset_name)\n",
    "    \n",
    "    @interact(key_to_pivot=pivotKeyX)\n",
    "    def plot_surface_by_name(key_to_pivot='q_link'):\n",
    "        global g_df\n",
    "        if g_df is None: return\n",
    "\n",
    "        pivot_df = g_df[['learning_rate', 'perplexity', key_to_pivot]].pivot(\n",
    "            index='learning_rate', columns='perplexity', values=key_to_pivot)\n",
    "\n",
    "        _plot_surface(pivot_data=pivot_df, chart_title=key_to_pivot)"
   ]
  },
  {
   "cell_type": "markdown",
   "metadata": {
    "extensions": {
     "jupyter_dashboards": {
      "version": 1,
      "views": {
       "grid_default": {
        "col": 0,
        "height": 4,
        "hidden": false,
        "row": 4,
        "width": 4
       },
       "report_default": {}
      }
     }
    }
   },
   "source": [
    "### Compare NLL and all metric scores"
   ]
  },
  {
   "cell_type": "code",
   "execution_count": 9,
   "metadata": {
    "extensions": {
     "jupyter_dashboards": {
      "version": 1,
      "views": {
       "grid_default": {
        "col": null,
        "height": 35,
        "hidden": false,
        "row": 20,
        "width": null
       },
       "report_default": {}
      }
     }
    },
    "scrolled": false
   },
   "outputs": [
    {
     "data": {
      "application/vnd.jupyter.widget-view+json": {
       "model_id": "a24a9d10f0234bb9ae40ce4adf0fb191",
       "version_major": 2,
       "version_minor": 0
      },
      "text/html": [
       "<p>Failed to display Jupyter Widget of type <code>VBox</code>.</p>\n",
       "<p>\n",
       "  If you're reading this message in the Jupyter Notebook or JupyterLab Notebook, it may mean\n",
       "  that the widgets JavaScript is still loading. If this message persists, it\n",
       "  likely means that the widgets JavaScript library is either not installed or\n",
       "  not enabled. See the <a href=\"https://ipywidgets.readthedocs.io/en/stable/user_install.html\">Jupyter\n",
       "  Widgets Documentation</a> for setup instructions.\n",
       "</p>\n",
       "<p>\n",
       "  If you're reading this message in another frontend (for example, a static\n",
       "  rendering on GitHub or <a href=\"https://nbviewer.jupyter.org/\">NBViewer</a>),\n",
       "  it may mean that your frontend doesn't currently support widgets.\n",
       "</p>\n"
      ],
      "text/plain": [
       "VBox(children=(HBox(children=(Dropdown(description='Dataset:', options={'Select dataset': '', 'MNIST mini': 'MNIST-SMALL', 'COIL-20': 'COIL20', 'MNIST 2000 samples': 'MNIST-2000', 'Country Indicators 1999': 'COUNTRY1999', 'Country Indicators 2013': 'COUNTRY2013', 'Country Indicators 2014': 'COUNTRY2014', 'Country Indicators 2015': 'COUNTRY2015', 'Cars and Trucks 2004': 'CARS04', 'Breast Cancer Wisconsin (Diagnostic)': 'BREAST-CANCER95', 'Pima Indians Diabetes': 'DIABETES', 'Multidimensional Poverty Measures': 'MPI'}, value=''), SelectionSlider(description='LR ($\\\\lambda$): ', index=4, options=(0.10000000000000001, 1.0, 10.0, 50.0, 100.0, 200.0, 300.0, 500.0), value=100.0), SelectionSlider(description='Perplexity: ', index=9, options=(0.10000000000000001, 0.5, 1.0, 2.0, 5.0, 10.0, 20.0, 30.0, 40.0, 50.0, 100.0, 200.0, 300.0, 400.0, 500.0, 1000.0), value=50.0))), HBox(children=(Checkbox(value=False, description='Log scale in xAxis'), Checkbox(value=False, description='Log scale in yAxis'), Checkbox(value=False, description='Inverse stress func. [*]'), Checkbox(value=True, description='Negative stress func. [*]')))))"
      ]
     },
     "metadata": {},
     "output_type": "display_data"
    },
    {
     "data": {
      "application/vnd.jupyter.widget-view+json": {
       "model_id": "20314cf634bb417ebf2538a17e51ab77",
       "version_major": 2,
       "version_minor": 0
      },
      "text/html": [
       "<p>Failed to display Jupyter Widget of type <code>Output</code>.</p>\n",
       "<p>\n",
       "  If you're reading this message in the Jupyter Notebook or JupyterLab Notebook, it may mean\n",
       "  that the widgets JavaScript is still loading. If this message persists, it\n",
       "  likely means that the widgets JavaScript library is either not installed or\n",
       "  not enabled. See the <a href=\"https://ipywidgets.readthedocs.io/en/stable/user_install.html\">Jupyter\n",
       "  Widgets Documentation</a> for setup instructions.\n",
       "</p>\n",
       "<p>\n",
       "  If you're reading this message in another frontend (for example, a static\n",
       "  rendering on GitHub or <a href=\"https://nbviewer.jupyter.org/\">NBViewer</a>),\n",
       "  it may mean that your frontend doesn't currently support widgets.\n",
       "</p>\n"
      ],
      "text/plain": [
       "Output()"
      ]
     },
     "metadata": {},
     "output_type": "display_data"
    }
   ],
   "source": [
    "# interactive plot all lines containint NLL and metric scores\n",
    "def plot_lines_by_key(dataset_name, lr, perp, use_log_x, use_log_y, show_inverse, show_neg):\n",
    "    global g_df\n",
    "    g_df = load_df(dataset_name)\n",
    "    \n",
    "    _plot_lines_by_key('learning_rate', lr, use_log_x, use_log_y, show_inverse, show_neg)\n",
    "    _plot_lines_by_key('perplexity', perp, use_log_x, use_log_y, show_inverse, show_neg)\n",
    "    \n",
    "ui = widgets.VBox([\n",
    "    widgets.HBox([datasetX, lrX, perpX]),\n",
    "    widgets.HBox([useLogXAxisX, useLogYAxisX, showInverseX, showNegativeX])\n",
    "])\n",
    "\n",
    "out = widgets.interactive_output(plot_lines_by_key, \n",
    "               {'dataset_name': datasetX,\n",
    "                'lr':lrX,\n",
    "                'perp':perpX,\n",
    "                'use_log_x': useLogXAxisX,\n",
    "                'use_log_y': useLogYAxisX,\n",
    "                'show_inverse': showInverseX,\n",
    "                'show_neg': showNegativeX})\n",
    "\n",
    "display(ui, out)"
   ]
  },
  {
   "cell_type": "markdown",
   "metadata": {
    "extensions": {
     "jupyter_dashboards": {
      "version": 1,
      "views": {
       "grid_default": {
        "col": 0,
        "height": 4,
        "hidden": false,
        "row": 12,
        "width": 12
       },
       "report_default": {}
      }
     }
    }
   },
   "source": [
    "### Plot running time and the number of iterations "
   ]
  },
  {
   "cell_type": "code",
   "execution_count": 10,
   "metadata": {
    "collapsed": true,
    "extensions": {
     "jupyter_dashboards": {
      "version": 1,
      "views": {
       "grid_default": {
        "hidden": true
       },
       "report_default": {}
      }
     }
    }
   },
   "outputs": [],
   "source": [
    "def _plot_runningtime(key_name, key_val):\n",
    "    global g_df\n",
    "    if g_df is None: return\n",
    "    \n",
    "    if key_name == 'perplexity':\n",
    "        df_by_key = g_df[g_df[key_name]==key_val]\n",
    "        x_data = df_by_key['learning_rate']\n",
    "    else: # learning_rate\n",
    "        df_by_key = g_df[g_df[key_name]==key_val]\n",
    "        x_data = df_by_key['perplexity']\n",
    "    \n",
    "    trace1 = go.Scatter(\n",
    "        x=x_data,\n",
    "        y=df_by_key['running_time'],\n",
    "        name='Runnning time'\n",
    "    )\n",
    "    trace2 = go.Bar(\n",
    "        x=x_data,\n",
    "        y=df_by_key['n_iter'],\n",
    "        name='# of iterations',\n",
    "        yaxis='y2'\n",
    "    )\n",
    "    data = [trace1, trace2]\n",
    "    layout = go.Layout(\n",
    "        title='Running time and number of iterations [{} = {}]'.format(key_name, key_val),\n",
    "        xaxis = dict(title = '{}'.format('Learning rate' if key_name == 'perplexity' else 'Perplexity')),\n",
    "        yaxis=dict(\n",
    "            title='Running time (s)'\n",
    "        ),\n",
    "        yaxis2=dict(\n",
    "            title='Number of iterations',\n",
    "            titlefont=dict(\n",
    "                color='orange'\n",
    "            ),\n",
    "            tickfont=dict(\n",
    "                color='orange'\n",
    "            ),\n",
    "            overlaying='y',\n",
    "            side='right'\n",
    "        ),\n",
    "        legend=dict(orientation=\"h\"),\n",
    "        autosize=False\n",
    "    )\n",
    "    fig = go.Figure(data=data, layout=layout)\n",
    "    iplot(fig)"
   ]
  },
  {
   "cell_type": "code",
   "execution_count": 11,
   "metadata": {
    "extensions": {
     "jupyter_dashboards": {
      "version": 1,
      "views": {
       "grid_default": {
        "col": null,
        "height": 12,
        "hidden": false,
        "row": 20,
        "width": null
       },
       "report_default": {}
      }
     }
    },
    "scrolled": true
   },
   "outputs": [
    {
     "data": {
      "application/vnd.jupyter.widget-view+json": {
       "model_id": "af6aaf87968d46518da9e2542450f6a0",
       "version_major": 2,
       "version_minor": 0
      },
      "text/html": [
       "<p>Failed to display Jupyter Widget of type <code>VBox</code>.</p>\n",
       "<p>\n",
       "  If you're reading this message in the Jupyter Notebook or JupyterLab Notebook, it may mean\n",
       "  that the widgets JavaScript is still loading. If this message persists, it\n",
       "  likely means that the widgets JavaScript library is either not installed or\n",
       "  not enabled. See the <a href=\"https://ipywidgets.readthedocs.io/en/stable/user_install.html\">Jupyter\n",
       "  Widgets Documentation</a> for setup instructions.\n",
       "</p>\n",
       "<p>\n",
       "  If you're reading this message in another frontend (for example, a static\n",
       "  rendering on GitHub or <a href=\"https://nbviewer.jupyter.org/\">NBViewer</a>),\n",
       "  it may mean that your frontend doesn't currently support widgets.\n",
       "</p>\n"
      ],
      "text/plain": [
       "VBox(children=(HBox(children=(Dropdown(description='Dataset:', options={'Select dataset': '', 'MNIST mini': 'MNIST-SMALL', 'COIL-20': 'COIL20', 'MNIST 2000 samples': 'MNIST-2000', 'Country Indicators 1999': 'COUNTRY1999', 'Country Indicators 2013': 'COUNTRY2013', 'Country Indicators 2014': 'COUNTRY2014', 'Country Indicators 2015': 'COUNTRY2015', 'Cars and Trucks 2004': 'CARS04', 'Breast Cancer Wisconsin (Diagnostic)': 'BREAST-CANCER95', 'Pima Indians Diabetes': 'DIABETES', 'Multidimensional Poverty Measures': 'MPI'}, value=''), SelectionSlider(description='LR ($\\\\lambda$): ', index=4, options=(0.10000000000000001, 1.0, 10.0, 50.0, 100.0, 200.0, 300.0, 500.0), value=100.0), SelectionSlider(description='Perplexity: ', index=9, options=(0.10000000000000001, 0.5, 1.0, 2.0, 5.0, 10.0, 20.0, 30.0, 40.0, 50.0, 100.0, 200.0, 300.0, 400.0, 500.0, 1000.0), value=50.0))),))"
      ]
     },
     "metadata": {},
     "output_type": "display_data"
    },
    {
     "data": {
      "application/vnd.jupyter.widget-view+json": {
       "model_id": "3ffb0048b0134696af9977f8508226f6",
       "version_major": 2,
       "version_minor": 0
      },
      "text/html": [
       "<p>Failed to display Jupyter Widget of type <code>Output</code>.</p>\n",
       "<p>\n",
       "  If you're reading this message in the Jupyter Notebook or JupyterLab Notebook, it may mean\n",
       "  that the widgets JavaScript is still loading. If this message persists, it\n",
       "  likely means that the widgets JavaScript library is either not installed or\n",
       "  not enabled. See the <a href=\"https://ipywidgets.readthedocs.io/en/stable/user_install.html\">Jupyter\n",
       "  Widgets Documentation</a> for setup instructions.\n",
       "</p>\n",
       "<p>\n",
       "  If you're reading this message in another frontend (for example, a static\n",
       "  rendering on GitHub or <a href=\"https://nbviewer.jupyter.org/\">NBViewer</a>),\n",
       "  it may mean that your frontend doesn't currently support widgets.\n",
       "</p>\n"
      ],
      "text/plain": [
       "Output()"
      ]
     },
     "metadata": {},
     "output_type": "display_data"
    }
   ],
   "source": [
    "def plot_runningtime(dataset_name, lr, perp):\n",
    "    global g_df\n",
    "    g_df = load_df(dataset_name)\n",
    "    \n",
    "    _plot_runningtime('learning_rate', lr)\n",
    "    _plot_runningtime('perplexity', perp)\n",
    "    \n",
    "ui2 = widgets.VBox([\n",
    "    widgets.HBox([datasetX, lrX, perpX]),\n",
    "])\n",
    "\n",
    "out2 = widgets.interactive_output(plot_runningtime, \n",
    "               {'dataset_name': datasetX,\n",
    "                'lr':lrX,\n",
    "                'perp':perpX})\n",
    "\n",
    "display(ui2, out2)"
   ]
  },
  {
   "cell_type": "markdown",
   "metadata": {
    "extensions": {
     "jupyter_dashboards": {
      "version": 1,
      "views": {
       "grid_default": {
        "col": 0,
        "height": 4,
        "hidden": false,
        "row": 8,
        "width": 12
       },
       "report_default": {}
      }
     }
    }
   },
   "source": [
    "### Compare two lines in the same graph\n",
    "+ We fix the value of `learning_rate`, e.g. choose `learning_rate = 100.0`, because it does not influence too much the final result."
   ]
  },
  {
   "cell_type": "code",
   "execution_count": 12,
   "metadata": {
    "collapsed": true
   },
   "outputs": [],
   "source": [
    "def _normalize_0_1(arr):\n",
    "    return (arr - arr.max()) / -np.ptp(arr)\n",
    "\n",
    "def _standardize(arr):\n",
    "    return (arr - arr.mean()) / arr.std()"
   ]
  },
  {
   "cell_type": "code",
   "execution_count": 77,
   "metadata": {
    "collapsed": true,
    "extensions": {
     "jupyter_dashboards": {
      "version": 1,
      "views": {
       "grid_default": {
        "hidden": true
       },
       "report_default": {}
      }
     }
    }
   },
   "outputs": [],
   "source": [
    "def _plot_two_lines(line1_name, line2_name, use_log_x, use_log_y,\n",
    "                    use_same_yaxis, show_inverse, show_neg, lr=100.0):\n",
    "    \"\"\"Util function for plotting two line in the same plot with different `yAxis`\n",
    "    \"\"\"\n",
    "    global g_df\n",
    "    if g_df is None: return\n",
    "    \n",
    "    _inverse = lambda y: np.divide(1.0, y, out=np.zeros_like(y), where=(y != 0))\n",
    "    \n",
    "    df_by_key = g_df[g_df['learning_rate']==lr]\n",
    "    \n",
    "    x_data = df_by_key['perplexity'] if not use_log_x else np.log(df_by_key['perplexity'])\n",
    "    y1_data = df_by_key[line1_name] if not use_log_y else np.log(df_by_key[line1_name])\n",
    "    y2_data = df_by_key[line2_name] if not use_log_y else np.log(df_by_key[line2_name])\n",
    "    \n",
    "    if show_inverse:\n",
    "        y2_data = _inverse(y2_data)\n",
    "        \n",
    "    if show_neg:\n",
    "        y2_data = - y2_data\n",
    "    \n",
    "    trace1 = go.Scatter(\n",
    "        x=x_data,\n",
    "        y=y1_data,\n",
    "        name=line1_name,\n",
    "        xaxis='x',\n",
    "        yaxis='y',\n",
    "    )\n",
    "    trace2 = go.Scatter(\n",
    "        x=x_data,\n",
    "        y=y2_data,\n",
    "        name=line2_name,\n",
    "        xaxis='x',\n",
    "        yaxis='y' if use_same_yaxis else 'y2'\n",
    "    )\n",
    "    \n",
    "    y1_normalized = _standardize(y1_data)\n",
    "    y2_normalized = _standardize(y2_data)\n",
    "    trace3 = go.Scatter(\n",
    "        x=x_data,\n",
    "        y=(y1_normalized - y2_normalized).abs(),\n",
    "        name='diff',\n",
    "        yaxis='y3',\n",
    "        marker=dict(color='#d62728'),\n",
    "    )\n",
    "    \n",
    "    data = [trace1, trace2, trace3]\n",
    "        \n",
    "    layout = go.Layout(\n",
    "        title='Compare the shape of {} and {} [learning_rate = {}]'.format(line1_name, line2_name, lr),\n",
    "        xaxis=dict(\n",
    "            tickvals=np.log(df_by_key['perplexity']),\n",
    "            ticktext=df_by_key['perplexity'],\n",
    "            #title='Perplexity in log-scale'\n",
    "        ) if use_log_x else dict(),\n",
    "        yaxis=dict(\n",
    "            title=line1_name,\n",
    "            domain=[0.3, 1],\n",
    "        ),\n",
    "        yaxis2=dict(\n",
    "            title=line2_name,\n",
    "            titlefont=dict(\n",
    "                color='orange'\n",
    "            ),\n",
    "            tickfont=dict(\n",
    "                color='orange'\n",
    "            ),\n",
    "            overlaying='y',\n",
    "            side='right',\n",
    "        ),\n",
    "        yaxis3=dict(\n",
    "            title='Diff',\n",
    "            titlefont=dict(\n",
    "                color='#d62728'\n",
    "            ),\n",
    "            tickfont=dict(\n",
    "                color='#d62728'\n",
    "            ),\n",
    "            domain=[0, 0.2],\n",
    "        ),\n",
    "        legend=dict(orientation=\"h\"),\n",
    "        autosize=False\n",
    "    )\n",
    "    fig = go.Figure(data=data, layout=layout)\n",
    "    print(\"[*] Inverse function and Negative function are applied only for the `Line2`\")\n",
    "    iplot(fig)"
   ]
  },
  {
   "cell_type": "code",
   "execution_count": 78,
   "metadata": {
    "extensions": {
     "jupyter_dashboards": {
      "version": 1,
      "views": {
       "grid_default": {
        "col": null,
        "height": 18,
        "hidden": false,
        "row": 20,
        "width": null
       },
       "report_default": {}
      }
     }
    },
    "scrolled": false
   },
   "outputs": [
    {
     "data": {
      "application/vnd.jupyter.widget-view+json": {
       "model_id": "40f5333216354f5db04c6174c0c90df2",
       "version_major": 2,
       "version_minor": 0
      },
      "text/html": [
       "<p>Failed to display Jupyter Widget of type <code>VBox</code>.</p>\n",
       "<p>\n",
       "  If you're reading this message in the Jupyter Notebook or JupyterLab Notebook, it may mean\n",
       "  that the widgets JavaScript is still loading. If this message persists, it\n",
       "  likely means that the widgets JavaScript library is either not installed or\n",
       "  not enabled. See the <a href=\"https://ipywidgets.readthedocs.io/en/stable/user_install.html\">Jupyter\n",
       "  Widgets Documentation</a> for setup instructions.\n",
       "</p>\n",
       "<p>\n",
       "  If you're reading this message in another frontend (for example, a static\n",
       "  rendering on GitHub or <a href=\"https://nbviewer.jupyter.org/\">NBViewer</a>),\n",
       "  it may mean that your frontend doesn't currently support widgets.\n",
       "</p>\n"
      ],
      "text/plain": [
       "VBox(children=(HBox(children=(Dropdown(description='Dataset:', index=1, options={'Select dataset': '', 'MNIST mini': 'MNIST-SMALL', 'COIL-20': 'COIL20', 'MNIST 2000 samples': 'MNIST-2000', 'Country Indicators 1999': 'COUNTRY1999', 'Country Indicators 2013': 'COUNTRY2013', 'Country Indicators 2014': 'COUNTRY2014', 'Country Indicators 2015': 'COUNTRY2015', 'Cars and Trucks 2004': 'CARS04', 'Breast Cancer Wisconsin (Diagnostic)': 'BREAST-CANCER95', 'Pima Indians Diabetes': 'DIABETES', 'Multidimensional Poverty Measures': 'MPI'}, value='MNIST-SMALL'), Dropdown(description='Line1: ', index=12, options=('auc_rnx', 'cca_stress', 'learning_rate', 'loss', 'mds_isotonic', 'n_iter', 'p_cl', 'p_link', 'p_ml', 'pearsonr', 'perplexity', 'q_cl', 'q_link', 'q_ml', 'running_time', 'sammon_nlm'), value='q_link'), Dropdown(description='Line2: ', options=('auc_rnx', 'cca_stress', 'learning_rate', 'loss', 'mds_isotonic', 'n_iter', 'p_cl', 'p_link', 'p_ml', 'pearsonr', 'perplexity', 'q_cl', 'q_link', 'q_ml', 'running_time', 'sammon_nlm'), value='auc_rnx'))), HBox(children=(Checkbox(value=False, description='Log scale in xAxis'), Checkbox(value=False, description='Log scale in yAxis'), Checkbox(value=False, description='Use same yAxis'))), HBox(children=(Checkbox(value=False, description='Inverse stress func. [*]'), Checkbox(value=True, description='Negative stress func. [*]')))))"
      ]
     },
     "metadata": {},
     "output_type": "display_data"
    },
    {
     "data": {
      "application/vnd.jupyter.widget-view+json": {
       "model_id": "deb3b36f623d4bedb804af9dfa0668d8",
       "version_major": 2,
       "version_minor": 0
      },
      "text/html": [
       "<p>Failed to display Jupyter Widget of type <code>Output</code>.</p>\n",
       "<p>\n",
       "  If you're reading this message in the Jupyter Notebook or JupyterLab Notebook, it may mean\n",
       "  that the widgets JavaScript is still loading. If this message persists, it\n",
       "  likely means that the widgets JavaScript library is either not installed or\n",
       "  not enabled. See the <a href=\"https://ipywidgets.readthedocs.io/en/stable/user_install.html\">Jupyter\n",
       "  Widgets Documentation</a> for setup instructions.\n",
       "</p>\n",
       "<p>\n",
       "  If you're reading this message in another frontend (for example, a static\n",
       "  rendering on GitHub or <a href=\"https://nbviewer.jupyter.org/\">NBViewer</a>),\n",
       "  it may mean that your frontend doesn't currently support widgets.\n",
       "</p>\n"
      ],
      "text/plain": [
       "Output()"
      ]
     },
     "metadata": {},
     "output_type": "display_data"
    }
   ],
   "source": [
    "def plot_two_lines(dataset_name, line1_name, line2_name, use_log_x, use_log_y,\n",
    "                   use_same_yaxis, show_inverse, show_neg):\n",
    "    global g_df\n",
    "    g_df = load_df(dataset_name)\n",
    "    \n",
    "    _plot_two_lines(line1_name, line2_name, use_log_x, use_log_y,\n",
    "                    use_same_yaxis, show_inverse, show_neg, lr=100.0)\n",
    "    \n",
    "ui3 = widgets.VBox([\n",
    "    widgets.HBox([datasetX, line1NameX, line2NameX]),\n",
    "    widgets.HBox([useLogXAxisX, useLogYAxisX, useSameAxisX]),\n",
    "    widgets.HBox([showInverseX, showNegativeX])\n",
    "])\n",
    "\n",
    "out3 = widgets.interactive_output(plot_two_lines, {\n",
    "    'dataset_name': datasetX,\n",
    "    'line1_name': line1NameX,\n",
    "    'line2_name': line2NameX,\n",
    "    'use_log_x': useLogXAxisX,\n",
    "    'use_log_y': useLogYAxisX,\n",
    "    'use_same_yaxis': useSameAxisX,\n",
    "    'show_inverse': showInverseX,\n",
    "    'show_neg': showNegativeX\n",
    "})\n",
    "\n",
    "display(ui3, out3)"
   ]
  },
  {
   "cell_type": "markdown",
   "metadata": {},
   "source": [
    "### Compare metric scores and negative log likelihood of constrained points"
   ]
  },
  {
   "cell_type": "code",
   "execution_count": 71,
   "metadata": {
    "collapsed": true
   },
   "outputs": [],
   "source": [
    "def _compare_lines(base_line, other_lines=[()], use_log_x=False, lr=100):\n",
    "    \"\"\"Util function for plotting the difference between\n",
    "        each line in `other_lines` and `base_line`\n",
    "    \"\"\"\n",
    "    global g_df\n",
    "    if g_df is None: return\n",
    "        \n",
    "    df_by_key = g_df[g_df['learning_rate']==lr]\n",
    "    df_by_key = df_by_key[(df_by_key['perplexity']<1000) & (df_by_key['perplexity']>=1.0)]\n",
    "    x_data = df_by_key['perplexity'] if not use_log_x else np.log(df_by_key['perplexity'])\n",
    "    \n",
    "    base_data = _standardize(df_by_key[base_line])    \n",
    "    \n",
    "    traces = []\n",
    "    for line_name, is_neg in other_lines:\n",
    "        line_data = df_by_key[line_name] * (-1 if is_neg else 1)\n",
    "        line_data = _standardize(line_data)\n",
    "        trace_data = (base_data - line_data).abs()\n",
    "        \n",
    "        trace = go.Scatter(\n",
    "            x=x_data,\n",
    "            y=trace_data,\n",
    "            name=line_name,\n",
    "            line = {'shape': 'spline'},\n",
    "        )\n",
    "        traces.append(trace)\n",
    "\n",
    "    layout = go.Layout(\n",
    "        title='Difference between NLL and metric scores [learning_rate = {}]'.format(lr),\n",
    "        autosize=False,\n",
    "        xaxis=dict(\n",
    "            tickvals=np.log(df_by_key['perplexity']),\n",
    "            ticktext=df_by_key['perplexity'],\n",
    "            title='Perplexity in log-scale'\n",
    "        ) if use_log_x else dict(title='Perplexity'),\n",
    "    )\n",
    "    fig = go.Figure(data=traces, layout=layout)\n",
    "    iplot(fig)"
   ]
  },
  {
   "cell_type": "code",
   "execution_count": 72,
   "metadata": {},
   "outputs": [
    {
     "data": {
      "application/vnd.jupyter.widget-view+json": {
       "model_id": "4fae678355934356b5902278b5202b84",
       "version_major": 2,
       "version_minor": 0
      },
      "text/html": [
       "<p>Failed to display Jupyter Widget of type <code>interactive</code>.</p>\n",
       "<p>\n",
       "  If you're reading this message in the Jupyter Notebook or JupyterLab Notebook, it may mean\n",
       "  that the widgets JavaScript is still loading. If this message persists, it\n",
       "  likely means that the widgets JavaScript library is either not installed or\n",
       "  not enabled. See the <a href=\"https://ipywidgets.readthedocs.io/en/stable/user_install.html\">Jupyter\n",
       "  Widgets Documentation</a> for setup instructions.\n",
       "</p>\n",
       "<p>\n",
       "  If you're reading this message in another frontend (for example, a static\n",
       "  rendering on GitHub or <a href=\"https://nbviewer.jupyter.org/\">NBViewer</a>),\n",
       "  it may mean that your frontend doesn't currently support widgets.\n",
       "</p>\n"
      ],
      "text/plain": [
       "interactive(children=(Dropdown(description='Dataset:', index=1, options={'Select dataset': '', 'MNIST mini': 'MNIST-SMALL', 'COIL-20': 'COIL20', 'MNIST 2000 samples': 'MNIST-2000', 'Country Indicators 1999': 'COUNTRY1999', 'Country Indicators 2013': 'COUNTRY2013', 'Country Indicators 2014': 'COUNTRY2014', 'Country Indicators 2015': 'COUNTRY2015', 'Cars and Trucks 2004': 'CARS04', 'Breast Cancer Wisconsin (Diagnostic)': 'BREAST-CANCER95', 'Pima Indians Diabetes': 'DIABETES', 'Multidimensional Poverty Measures': 'MPI'}, value='MNIST-SMALL'), Checkbox(value=True, description='Log scale in xAxis'), Output()), _dom_classes=('widget-interact',))"
      ]
     },
     "metadata": {},
     "output_type": "display_data"
    }
   ],
   "source": [
    "@interact(dataset_name=datasetX, use_log_x=useLogXAxisX)\n",
    "def plot_comparing_lines(dataset_name, use_log_x):\n",
    "    global g_df\n",
    "    g_df = load_df(dataset_name)\n",
    "    \n",
    "    base_line = 'q_link'\n",
    "    other_lines = [\n",
    "        ('auc_rnx', True),\n",
    "        ('cca_stress', False),\n",
    "        ('mds_isotonic', True),\n",
    "        ('pearsonr', True),\n",
    "        ('sammon_nlm', True)\n",
    "    ]\n",
    "    _compare_lines(base_line, other_lines, use_log_x, lr=100.0)"
   ]
  },
  {
   "cell_type": "code",
   "execution_count": 21,
   "metadata": {
    "collapsed": true
   },
   "outputs": [],
   "source": [
    "# for each dataset: calculate sum(log(metric))\n",
    "\n",
    "def _sum_lines(lines=[()], use_log_x=False, lr=100.0):\n",
    "    global g_df\n",
    "    if g_df is None: return\n",
    "        \n",
    "    df_by_key = g_df[g_df['learning_rate']==lr]\n",
    "    df_by_key = df_by_key[(df_by_key['perplexity']<1000) & (df_by_key['perplexity']>=1.0)]\n",
    "       \n",
    "    trace_data = []\n",
    "    for line_name, is_inversed in lines:\n",
    "        line_data = df_by_key[line_name] * (-1 if is_inversed else 1)\n",
    "        line_data = _normalize_0_1(line_data)\n",
    "        trace_data.append(line_data.mean())\n",
    "    return trace_data"
   ]
  },
  {
   "cell_type": "code",
   "execution_count": 44,
   "metadata": {},
   "outputs": [
    {
     "data": {
      "application/vnd.plotly.v1+json": {
       "data": [
        {
         "name": "auc_rnx",
         "type": "bar",
         "uid": "ebaa8a",
         "x": [
          "MNIST-SMALL",
          "MNIST-2000",
          "COIL20",
          "COUNTRY1999",
          "COUNTRY2013",
          "COUNTRY2014",
          "COUNTRY2015",
          "CARS04",
          "BREAST-CANCER95",
          "DIABETES",
          "MPI"
         ],
         "y": [
          0.2613342255261885,
          0.28398623814019064,
          0.22299736657618233,
          0.30108950898833226,
          0.29615700600896,
          0.30236693380529733,
          0.3074634456323983,
          0.21095961154661202,
          0.23480280627181807,
          0.20090775409932843,
          0.4079513872995853
         ]
        },
        {
         "name": "cca_stress",
         "type": "bar",
         "uid": "5719b2",
         "x": [
          "MNIST-SMALL",
          "MNIST-2000",
          "COIL20",
          "COUNTRY1999",
          "COUNTRY2013",
          "COUNTRY2014",
          "COUNTRY2015",
          "CARS04",
          "BREAST-CANCER95",
          "DIABETES",
          "MPI"
         ],
         "y": [
          0.7179801182076233,
          0.6665259724578091,
          0.6455124011455726,
          0.4987150614045018,
          0.5287149609265557,
          0.5090398906621327,
          0.6100944107049584,
          0.721325332682,
          0.809616444781221,
          0.7888998946584267,
          0.6116747577394925
         ]
        },
        {
         "name": "mds_isotonic",
         "type": "bar",
         "uid": "1d32ce",
         "x": [
          "MNIST-SMALL",
          "MNIST-2000",
          "COIL20",
          "COUNTRY1999",
          "COUNTRY2013",
          "COUNTRY2014",
          "COUNTRY2015",
          "CARS04",
          "BREAST-CANCER95",
          "DIABETES",
          "MPI"
         ],
         "y": [
          0.5958589194051905,
          0.5592796669103189,
          0.4816226998330176,
          0.33456154086687345,
          0.34516858350434443,
          0.3534369179425067,
          0.46969658157650807,
          0.5822453588243417,
          0.6765386908513651,
          0.6400769089874653,
          0.5108476708177319
         ]
        },
        {
         "name": "pearsonr",
         "type": "bar",
         "uid": "e227a8",
         "x": [
          "MNIST-SMALL",
          "MNIST-2000",
          "COIL20",
          "COUNTRY1999",
          "COUNTRY2013",
          "COUNTRY2014",
          "COUNTRY2015",
          "CARS04",
          "BREAST-CANCER95",
          "DIABETES",
          "MPI"
         ],
         "y": [
          0.29175474001442353,
          0.3122756308570204,
          0.3789202389490987,
          0.555712462431739,
          0.5212695045837792,
          0.5573462062392456,
          0.42416550107621387,
          0.2986349115789719,
          0.20148863276928303,
          0.23167945250200603,
          0.4278282740657762
         ]
        },
        {
         "name": "sammon_nlm",
         "type": "bar",
         "uid": "f1444d",
         "x": [
          "MNIST-SMALL",
          "MNIST-2000",
          "COIL20",
          "COUNTRY1999",
          "COUNTRY2013",
          "COUNTRY2014",
          "COUNTRY2015",
          "CARS04",
          "BREAST-CANCER95",
          "DIABETES",
          "MPI"
         ],
         "y": [
          0.5996327463812146,
          0.5685391368874437,
          0.5364782950390891,
          0.8581753666636729,
          0.7997698463913002,
          0.768388830481348,
          0.7234820631651873,
          0.7738829262032051,
          0.840905940893313,
          0.8246586662112113,
          0.6392171827001769
         ]
        }
       ],
       "layout": {
        "autosize": true,
        "xaxis": {
         "autorange": true,
         "range": [
          -0.5,
          10.5
         ],
         "type": "category"
        },
        "yaxis": {
         "autorange": true,
         "range": [
          0,
          0.9033424912249188
         ],
         "type": "linear"
        }
       }
      },
      "text/html": [
       "<div id=\"b8315165-ef60-42fb-8bb8-94145ace6122\" style=\"height: 525px; width: 100%;\" class=\"plotly-graph-div\"></div><script type=\"text/javascript\">require([\"plotly\"], function(Plotly) { window.PLOTLYENV=window.PLOTLYENV || {};window.PLOTLYENV.BASE_URL=\"https://plot.ly\";Plotly.newPlot(\"b8315165-ef60-42fb-8bb8-94145ace6122\", [{\"type\": \"bar\", \"x\": [\"MNIST-SMALL\", \"MNIST-2000\", \"COIL20\", \"COUNTRY1999\", \"COUNTRY2013\", \"COUNTRY2014\", \"COUNTRY2015\", \"CARS04\", \"BREAST-CANCER95\", \"DIABETES\", \"MPI\"], \"y\": [0.2613342255261885, 0.28398623814019064, 0.22299736657618233, 0.30108950898833226, 0.29615700600896, 0.30236693380529733, 0.3074634456323983, 0.21095961154661202, 0.23480280627181807, 0.20090775409932843, 0.4079513872995853], \"name\": \"auc_rnx\"}, {\"type\": \"bar\", \"x\": [\"MNIST-SMALL\", \"MNIST-2000\", \"COIL20\", \"COUNTRY1999\", \"COUNTRY2013\", \"COUNTRY2014\", \"COUNTRY2015\", \"CARS04\", \"BREAST-CANCER95\", \"DIABETES\", \"MPI\"], \"y\": [0.7179801182076233, 0.6665259724578091, 0.6455124011455726, 0.4987150614045018, 0.5287149609265557, 0.5090398906621327, 0.6100944107049584, 0.721325332682, 0.809616444781221, 0.7888998946584267, 0.6116747577394925], \"name\": \"cca_stress\"}, {\"type\": \"bar\", \"x\": [\"MNIST-SMALL\", \"MNIST-2000\", \"COIL20\", \"COUNTRY1999\", \"COUNTRY2013\", \"COUNTRY2014\", \"COUNTRY2015\", \"CARS04\", \"BREAST-CANCER95\", \"DIABETES\", \"MPI\"], \"y\": [0.5958589194051905, 0.5592796669103189, 0.4816226998330176, 0.33456154086687345, 0.34516858350434443, 0.3534369179425067, 0.46969658157650807, 0.5822453588243417, 0.6765386908513651, 0.6400769089874653, 0.5108476708177319], \"name\": \"mds_isotonic\"}, {\"type\": \"bar\", \"x\": [\"MNIST-SMALL\", \"MNIST-2000\", \"COIL20\", \"COUNTRY1999\", \"COUNTRY2013\", \"COUNTRY2014\", \"COUNTRY2015\", \"CARS04\", \"BREAST-CANCER95\", \"DIABETES\", \"MPI\"], \"y\": [0.29175474001442353, 0.3122756308570204, 0.3789202389490987, 0.555712462431739, 0.5212695045837792, 0.5573462062392456, 0.42416550107621387, 0.2986349115789719, 0.20148863276928303, 0.23167945250200603, 0.4278282740657762], \"name\": \"pearsonr\"}, {\"type\": \"bar\", \"x\": [\"MNIST-SMALL\", \"MNIST-2000\", \"COIL20\", \"COUNTRY1999\", \"COUNTRY2013\", \"COUNTRY2014\", \"COUNTRY2015\", \"CARS04\", \"BREAST-CANCER95\", \"DIABETES\", \"MPI\"], \"y\": [0.5996327463812146, 0.5685391368874437, 0.5364782950390891, 0.8581753666636729, 0.7997698463913002, 0.768388830481348, 0.7234820631651873, 0.7738829262032051, 0.840905940893313, 0.8246586662112113, 0.6392171827001769], \"name\": \"sammon_nlm\"}], {}, {\"showLink\": true, \"linkText\": \"Export to plot.ly\"})});</script>"
      ],
      "text/vnd.plotly.v1+html": [
       "<div id=\"b8315165-ef60-42fb-8bb8-94145ace6122\" style=\"height: 525px; width: 100%;\" class=\"plotly-graph-div\"></div><script type=\"text/javascript\">require([\"plotly\"], function(Plotly) { window.PLOTLYENV=window.PLOTLYENV || {};window.PLOTLYENV.BASE_URL=\"https://plot.ly\";Plotly.newPlot(\"b8315165-ef60-42fb-8bb8-94145ace6122\", [{\"type\": \"bar\", \"x\": [\"MNIST-SMALL\", \"MNIST-2000\", \"COIL20\", \"COUNTRY1999\", \"COUNTRY2013\", \"COUNTRY2014\", \"COUNTRY2015\", \"CARS04\", \"BREAST-CANCER95\", \"DIABETES\", \"MPI\"], \"y\": [0.2613342255261885, 0.28398623814019064, 0.22299736657618233, 0.30108950898833226, 0.29615700600896, 0.30236693380529733, 0.3074634456323983, 0.21095961154661202, 0.23480280627181807, 0.20090775409932843, 0.4079513872995853], \"name\": \"auc_rnx\"}, {\"type\": \"bar\", \"x\": [\"MNIST-SMALL\", \"MNIST-2000\", \"COIL20\", \"COUNTRY1999\", \"COUNTRY2013\", \"COUNTRY2014\", \"COUNTRY2015\", \"CARS04\", \"BREAST-CANCER95\", \"DIABETES\", \"MPI\"], \"y\": [0.7179801182076233, 0.6665259724578091, 0.6455124011455726, 0.4987150614045018, 0.5287149609265557, 0.5090398906621327, 0.6100944107049584, 0.721325332682, 0.809616444781221, 0.7888998946584267, 0.6116747577394925], \"name\": \"cca_stress\"}, {\"type\": \"bar\", \"x\": [\"MNIST-SMALL\", \"MNIST-2000\", \"COIL20\", \"COUNTRY1999\", \"COUNTRY2013\", \"COUNTRY2014\", \"COUNTRY2015\", \"CARS04\", \"BREAST-CANCER95\", \"DIABETES\", \"MPI\"], \"y\": [0.5958589194051905, 0.5592796669103189, 0.4816226998330176, 0.33456154086687345, 0.34516858350434443, 0.3534369179425067, 0.46969658157650807, 0.5822453588243417, 0.6765386908513651, 0.6400769089874653, 0.5108476708177319], \"name\": \"mds_isotonic\"}, {\"type\": \"bar\", \"x\": [\"MNIST-SMALL\", \"MNIST-2000\", \"COIL20\", \"COUNTRY1999\", \"COUNTRY2013\", \"COUNTRY2014\", \"COUNTRY2015\", \"CARS04\", \"BREAST-CANCER95\", \"DIABETES\", \"MPI\"], \"y\": [0.29175474001442353, 0.3122756308570204, 0.3789202389490987, 0.555712462431739, 0.5212695045837792, 0.5573462062392456, 0.42416550107621387, 0.2986349115789719, 0.20148863276928303, 0.23167945250200603, 0.4278282740657762], \"name\": \"pearsonr\"}, {\"type\": \"bar\", \"x\": [\"MNIST-SMALL\", \"MNIST-2000\", \"COIL20\", \"COUNTRY1999\", \"COUNTRY2013\", \"COUNTRY2014\", \"COUNTRY2015\", \"CARS04\", \"BREAST-CANCER95\", \"DIABETES\", \"MPI\"], \"y\": [0.5996327463812146, 0.5685391368874437, 0.5364782950390891, 0.8581753666636729, 0.7997698463913002, 0.768388830481348, 0.7234820631651873, 0.7738829262032051, 0.840905940893313, 0.8246586662112113, 0.6392171827001769], \"name\": \"sammon_nlm\"}], {}, {\"showLink\": true, \"linkText\": \"Export to plot.ly\"})});</script>"
      ]
     },
     "metadata": {},
     "output_type": "display_data"
    }
   ],
   "source": [
    "def sum_lines(lr=100.0):\n",
    "    datasets = [\n",
    "        'MNIST-SMALL',\n",
    "        'MNIST-2000',\n",
    "        'COIL20',\n",
    "        'COUNTRY1999',\n",
    "        'COUNTRY2013',\n",
    "        'COUNTRY2014',\n",
    "        'COUNTRY2015',\n",
    "        'CARS04',\n",
    "        'BREAST-CANCER95',\n",
    "        'DIABETES',\n",
    "        'MPI'\n",
    "    ]\n",
    "    lines = [\n",
    "        ('auc_rnx', True),\n",
    "        ('cca_stress', False),\n",
    "        ('mds_isotonic', False),\n",
    "        ('pearsonr', True),\n",
    "        ('sammon_nlm', True)\n",
    "    ]\n",
    "    traces_data = {line_name: [] for line_name, _ in lines}\n",
    "    \n",
    "    for dataset in datasets:\n",
    "        df = load_df(dataset)\n",
    "        df_by_key = df[df['learning_rate']==lr]\n",
    "        df_by_key = df_by_key[(df_by_key['perplexity']<1000) & (df_by_key['perplexity']>=1.0)]\n",
    "        for line_name, _ in lines:\n",
    "            line_data = df_by_key[line_name]\n",
    "            line_data = _normalize_0_1(line_data)\n",
    "            traces_data[line_name].append(line_data.mean())\n",
    "    \n",
    "    traces = []\n",
    "    for line_name, _ in lines:\n",
    "        trace = go.Bar(\n",
    "            x=datasets,\n",
    "            y=traces_data[line_name],\n",
    "            name=line_name,\n",
    "        )\n",
    "        traces.append(trace)\n",
    "    fig = go.Figure(data=traces)\n",
    "    iplot(fig)\n",
    "    \n",
    "sum_lines(lr=100.0)"
   ]
  },
  {
   "cell_type": "markdown",
   "metadata": {
    "extensions": {
     "jupyter_dashboards": {
      "version": 1,
      "views": {
       "grid_default": {
        "col": 8,
        "height": 4,
        "hidden": false,
        "row": 16,
        "width": 4
       },
       "report_default": {}
      }
     }
    }
   },
   "source": [
    "### Scatter2d of the embedded points with pairwise constraints"
   ]
  },
  {
   "cell_type": "code",
   "execution_count": 33,
   "metadata": {
    "extensions": {
     "jupyter_dashboards": {
      "version": 1,
      "views": {
       "grid_default": {
        "col": null,
        "height": 25,
        "hidden": false,
        "row": 55,
        "width": null
       },
       "report_default": {}
      }
     }
    },
    "scrolled": false
   },
   "outputs": [
    {
     "data": {
      "application/vnd.jupyter.widget-view+json": {
       "model_id": "14c7758426c04cd985a7edd1ab634f87",
       "version_major": 2,
       "version_minor": 0
      },
      "text/html": [
       "<p>Failed to display Jupyter Widget of type <code>interactive</code>.</p>\n",
       "<p>\n",
       "  If you're reading this message in the Jupyter Notebook or JupyterLab Notebook, it may mean\n",
       "  that the widgets JavaScript is still loading. If this message persists, it\n",
       "  likely means that the widgets JavaScript library is either not installed or\n",
       "  not enabled. See the <a href=\"https://ipywidgets.readthedocs.io/en/stable/user_install.html\">Jupyter\n",
       "  Widgets Documentation</a> for setup instructions.\n",
       "</p>\n",
       "<p>\n",
       "  If you're reading this message in another frontend (for example, a static\n",
       "  rendering on GitHub or <a href=\"https://nbviewer.jupyter.org/\">NBViewer</a>),\n",
       "  it may mean that your frontend doesn't currently support widgets.\n",
       "</p>\n"
      ],
      "text/plain": [
       "interactive(children=(Dropdown(description='Dataset:', index=1, options={'Select dataset': '', 'MNIST mini': 'MNIST-SMALL', 'COIL-20': 'COIL20', 'MNIST 2000 samples': 'MNIST-2000', 'Country Indicators 1999': 'COUNTRY1999', 'Country Indicators 2013': 'COUNTRY2013', 'Country Indicators 2014': 'COUNTRY2014', 'Country Indicators 2015': 'COUNTRY2015', 'Cars and Trucks 2004': 'CARS04', 'Breast Cancer Wisconsin (Diagnostic)': 'BREAST-CANCER95', 'Pima Indians Diabetes': 'DIABETES', 'Multidimensional Poverty Measures': 'MPI'}, value='MNIST-SMALL'), Output()), _dom_classes=('widget-interact',))"
      ]
     },
     "metadata": {},
     "output_type": "display_data"
    }
   ],
   "source": [
    "@interact(dataset_name=datasetX)\n",
    "def plot_scatter(dataset_name):\n",
    "    if dataset_name == \"\": return\n",
    "    \n",
    "    in_name = '{}/tsne_{}.pkl'.format(data_folder, dataset_name)\n",
    "    pkl_data = pickle.load(open(in_name, 'rb'))\n",
    "    embeddeds = pkl_data['results']\n",
    "    mustlinks = pkl_data['mustlinks']\n",
    "    cannotlinks = pkl_data['cannotlinnks']\n",
    "    target_labels = pkl_data['target']\n",
    "    print(np.unique(target_labels))\n",
    "    \n",
    "    def pad_then_flatten(a):\n",
    "        b = [(x1, x2, None) for x1, x2 in a]\n",
    "        c = list(sum(b, ()))\n",
    "        return c\n",
    "    \n",
    "    \n",
    "    @interact(lr=lrX, perp=perpX)\n",
    "    def _plot_scatter(lr, perp):\n",
    "        target = next((item for item in embeddeds if item['learning_rate'] == lr and item['perplexity'] == perp))\n",
    "        X_embedded = target['embedding']\n",
    "        \n",
    "        ml_pos = [X_embedded[mustlinks][:, :, 0], X_embedded[mustlinks][:, :, 1]]\n",
    "        cl_pos = [X_embedded[cannotlinks][:, :, 0], X_embedded[cannotlinks][:, :, 1]]\n",
    "                \n",
    "        trace_scatter = go.Scattergl(\n",
    "            x = X_embedded[:,0],\n",
    "            y = X_embedded[:,1],\n",
    "            name = 'X_embedded',\n",
    "            mode='markers',\n",
    "            marker=dict(\n",
    "                size='6',\n",
    "                color = target_labels,\n",
    "                colorscale='Viridis',\n",
    "                opacity=0.7,\n",
    "                # showscale=True\n",
    "            )\n",
    "        )\n",
    "        \n",
    "        trace_ml = go.Scattergl(\n",
    "            x = pad_then_flatten(ml_pos[0]),\n",
    "            y = pad_then_flatten(ml_pos[1]),\n",
    "            connectgaps=False,\n",
    "            name = 'Mustlink',\n",
    "            line = dict(\n",
    "                color = ('rgba(22, 96, 167, 0.4)'),\n",
    "                width = 2,\n",
    "                dash = 'dash'\n",
    "            )\n",
    "            \n",
    "        )\n",
    "        \n",
    "        trace_cl = go.Scattergl(\n",
    "            x = pad_then_flatten(cl_pos[0]),\n",
    "            y = pad_then_flatten(cl_pos[1]),\n",
    "            connectgaps=False,\n",
    "            name = 'Cannotlink',\n",
    "            line = dict(\n",
    "                color = ('rgba(205, 12, 24, 0.4)'),\n",
    "                width = 2,\n",
    "                dash = 'dash'\n",
    "            )\n",
    "        )\n",
    "            \n",
    "        layout = go.Layout(\n",
    "            autosize=True,\n",
    "            width=800,\n",
    "            height=600,\n",
    "            xaxis=dict(\n",
    "                autorange=True,\n",
    "                showgrid=False,\n",
    "                zeroline=False,\n",
    "                showline=False,\n",
    "                autotick=True,\n",
    "                ticks='',\n",
    "                showticklabels=False\n",
    "            ),\n",
    "            yaxis=dict(\n",
    "                autorange=True,\n",
    "                showgrid=False,\n",
    "                zeroline=False,\n",
    "                showline=False,\n",
    "                autotick=True,\n",
    "                ticks='',\n",
    "                showticklabels=True\n",
    "            )\n",
    "        )\n",
    "        fig = go.Figure(data=[trace_scatter, trace_ml, trace_cl], layout=layout)\n",
    "        iplot(fig)"
   ]
  }
 ],
 "metadata": {
  "extensions": {
   "jupyter_dashboards": {
    "activeView": "grid_default",
    "version": 1,
    "views": {
     "grid_default": {
      "cellMargin": 10,
      "defaultCellHeight": 20,
      "maxColumns": 12,
      "name": "grid",
      "type": "grid"
     },
     "report_default": {
      "name": "report",
      "type": "report"
     }
    }
   }
  },
  "kernelspec": {
   "display_name": "Python 3",
   "language": "python",
   "name": "python3"
  },
  "language_info": {
   "codemirror_mode": {
    "name": "ipython",
    "version": 3
   },
   "file_extension": ".py",
   "mimetype": "text/x-python",
   "name": "python",
   "nbconvert_exporter": "python",
   "pygments_lexer": "ipython3",
   "version": "3.6.4"
  }
 },
 "nbformat": 4,
 "nbformat_minor": 2
}
