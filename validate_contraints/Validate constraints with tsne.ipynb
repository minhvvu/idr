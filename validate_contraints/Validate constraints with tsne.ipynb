{
 "cells": [
  {
   "cell_type": "code",
   "execution_count": 1,
   "metadata": {
    "collapsed": true,
    "extensions": {
     "jupyter_dashboards": {
      "version": 1,
      "views": {
       "grid_default": {
        "hidden": true
       },
       "report_default": {
        "hidden": true
       }
      }
     }
    }
   },
   "outputs": [],
   "source": [
    "import numpy as np\n",
    "import pandas as pd\n",
    "import pickle\n",
    "\n",
    "data_folder = 'output_tsne'"
   ]
  },
  {
   "cell_type": "code",
   "execution_count": 2,
   "metadata": {
    "extensions": {
     "jupyter_dashboards": {
      "version": 1,
      "views": {
       "grid_default": {
        "col": 0,
        "height": 4,
        "hidden": true,
        "row": 0,
        "width": 4
       },
       "report_default": {
        "hidden": true
       }
      }
     }
    }
   },
   "outputs": [
    {
     "data": {
      "text/html": [
       "<script>requirejs.config({paths: { 'plotly': ['https://cdn.plot.ly/plotly-latest.min']},});if(!window.Plotly) {{require(['plotly'],function(plotly) {window.Plotly=plotly;});}}</script>"
      ],
      "text/vnd.plotly.v1+html": [
       "<script>requirejs.config({paths: { 'plotly': ['https://cdn.plot.ly/plotly-latest.min']},});if(!window.Plotly) {{require(['plotly'],function(plotly) {window.Plotly=plotly;});}}</script>"
      ]
     },
     "metadata": {},
     "output_type": "display_data"
    }
   ],
   "source": [
    "import plotly.plotly as py\n",
    "import plotly.graph_objs as go\n",
    "\n",
    "from plotly.offline import download_plotlyjs, init_notebook_mode, plot, iplot\n",
    "init_notebook_mode(connected=True)"
   ]
  },
  {
   "cell_type": "code",
   "execution_count": 3,
   "metadata": {
    "collapsed": true,
    "extensions": {
     "jupyter_dashboards": {
      "version": 1,
      "views": {
       "grid_default": {
        "hidden": true
       },
       "report_default": {
        "hidden": true
       }
      }
     }
    }
   },
   "outputs": [],
   "source": [
    "import ipywidgets as widgets\n",
    "from ipywidgets import interact, interactive_output"
   ]
  },
  {
   "cell_type": "code",
   "execution_count": 4,
   "metadata": {
    "collapsed": true,
    "extensions": {
     "jupyter_dashboards": {
      "version": 1,
      "views": {
       "grid_default": {
        "hidden": true
       },
       "report_default": {
        "hidden": true
       }
      }
     }
    }
   },
   "outputs": [],
   "source": [
    "def load_df(dataset_name):\n",
    "    if dataset_name == \"\": return None\n",
    "    \n",
    "    in_name = '{}/tsne_{}.pkl'.format(data_folder, dataset_name)\n",
    "    pkl_data = pickle.load(open(in_name, 'rb'))\n",
    "    embeddeds = pkl_data['results']\n",
    "    df = pd.DataFrame.from_records(embeddeds, exclude=[\"embedding\"])\n",
    "    return df\n",
    "\n",
    "# global dataframe\n",
    "g_df = load_df('MNIST-SMALL')"
   ]
  },
  {
   "cell_type": "code",
   "execution_count": 18,
   "metadata": {
    "collapsed": true,
    "extensions": {
     "jupyter_dashboards": {
      "version": 1,
      "views": {
       "grid_default": {
        "col": 0,
        "height": 4,
        "hidden": true,
        "row": 0,
        "width": 4
       },
       "report_default": {
        "hidden": true
       }
      }
     }
    }
   },
   "outputs": [],
   "source": [
    "def _plot_surface(pivot_data, z_title='', chart_title=''):\n",
    "    perps = pivot_data.columns\n",
    "    lrs = pivot_data.transpose().columns\n",
    "    data = [\n",
    "        go.Surface(\n",
    "            x = perps,\n",
    "            y = lrs,\n",
    "            z=pivot_data.as_matrix(),\n",
    "        )\n",
    "    ]\n",
    "    layout = go.Layout(\n",
    "        title=chart_title,\n",
    "        autosize=True,\n",
    "        width=600,\n",
    "        height=600,\n",
    "        margin=dict(\n",
    "            l=65,\n",
    "            r=50,\n",
    "            b=65,\n",
    "            t=90\n",
    "        ),\n",
    "        scene = dict(\n",
    "            xaxis = dict(\n",
    "                title='Perplexity'),\n",
    "            yaxis = dict(\n",
    "                title='Learning rate'),\n",
    "            zaxis = dict(\n",
    "                title=z_title),\n",
    "        ),\n",
    "    )\n",
    "    fig = go.Figure(data=data, layout=layout)\n",
    "    iplot(fig)"
   ]
  },
  {
   "cell_type": "code",
   "execution_count": 23,
   "metadata": {
    "collapsed": true,
    "extensions": {
     "jupyter_dashboards": {
      "version": 1,
      "views": {
       "grid_default": {
        "hidden": true
       },
       "report_default": {
        "hidden": true
       }
      }
     }
    }
   },
   "outputs": [],
   "source": [
    "def _plot_lines_by_key(key_name, key_val, use_log_x, use_log_y, show_inverse, show_neg):\n",
    "    global g_df\n",
    "    if g_df is None: return\n",
    "    \n",
    "    if key_name == 'perplexity':\n",
    "        df_by_key = g_df[g_df[key_name]==key_val]\n",
    "        x_data = np.log(df_by_key['learning_rate']) if use_log_x else df_by_key['learning_rate']\n",
    "    else: # learning_rate\n",
    "        df_by_key = g_df[g_df[key_name]==key_val]\n",
    "        x_data = np.log(df_by_key['perplexity']) if use_log_x else df_by_key['perplexity']\n",
    "    \n",
    "    # customized functions that can be applied onto the y-values\n",
    "    _inverse = lambda y: np.divide(1.0, y, out=np.zeros_like(y), where=(y != 0))\n",
    "    _negative = lambda y: -y\n",
    "    \n",
    "    line_names = [\n",
    "        # (line_name, display_name, show_by_default, can_modify)\n",
    "        ('q_link', '[] -log(links) in low dim.', True, False),\n",
    "        ('p_link', '[] -log(links) in high dim.', False, False),\n",
    "        ('loss', '[] KL loss', True, False),\n",
    "        ('auc_rnx', '[*] logRNX', True, True),\n",
    "        ('cca_stress', '[*] CCA Stress', False, True),\n",
    "        ('mds_isotonic', '[*] MDS Stress', False, True),\n",
    "        ('pearsonr', '[*] Corr. Coef.', True, True),\n",
    "        ('sammon_nlm', '[*] Sammon NLM', True, True)\n",
    "    ]\n",
    "    \n",
    "    plot_data = []\n",
    "    for line_name, display_name, show_by_default, can_modify in line_names:\n",
    "        y = df_by_key[line_name]\n",
    "        y_data = np.log(y) if use_log_y else y\n",
    "        if can_modify:\n",
    "            if show_inverse: y_data = _inverse(y_data)\n",
    "            if show_neg: y_data = _negative(y_data)\n",
    "            \n",
    "        trace_i = go.Scatter(\n",
    "            x = x_data,\n",
    "            y = y_data,\n",
    "            name = display_name,\n",
    "            mode = 'lines+markers',\n",
    "            line = {'shape': 'spline'},\n",
    "            visible= '' if show_by_default else 'legendonly'\n",
    "        )\n",
    "        plot_data.append(trace_i)\n",
    "    \n",
    "    \n",
    "    layout = dict(\n",
    "        title = 'Metric values / NLL [{}  = {}]'.format(key_name, key_val),\n",
    "        xaxis = dict(title = '{} {}'.format(\n",
    "          'Log of ' if use_log_x else '',\n",
    "          'Learning rate' if key_name == 'perplexity' else 'Perplexity')),\n",
    "        yaxis = dict(title = '{} {}'.format(\n",
    "          'Log of ' if use_log_y else '', 'Metrics value / negative LL')),\n",
    "        autosize=False\n",
    "    )\n",
    "        \n",
    "    fig = go.Figure(data=plot_data, layout=layout)\n",
    "    iplot(fig)"
   ]
  },
  {
   "cell_type": "code",
   "execution_count": 24,
   "metadata": {
    "extensions": {
     "jupyter_dashboards": {
      "version": 1,
      "views": {
       "grid_default": {
        "hidden": true
       },
       "report_default": {
        "hidden": true
       }
      }
     }
    }
   },
   "outputs": [],
   "source": [
    "# UI controls\n",
    "\n",
    "datasetX = widgets.Dropdown(\n",
    "    options={\n",
    "        \"Select dataset\": \"\",\n",
    "        \"MNIST mini\": \"MNIST-SMALL\",\n",
    "        \"COIL-20\": \"COIL20\",\n",
    "        \"MNIST 2000 samples\": \"MNIST-2000\",\n",
    "        \"Country Indicators 1999\": \"COUNTRY1999\",\n",
    "        \"Country Indicators 2013\": \"COUNTRY2013\",\n",
    "        \"Country Indicators 2014\": \"COUNTRY2014\",\n",
    "        \"Country Indicators 2015\": \"COUNTRY2015\",\n",
    "        \"Cars and Trucks 2004\": \"CARS04\",\n",
    "        \"Breast Cancer Wisconsin (Diagnostic)\": \"BREAST-CANCER95\",\n",
    "        \"Pima Indians Diabetes\": \"DIABETES\",\n",
    "        \"Multidimensional Poverty Measures\": \"MPI\"\n",
    "    },\n",
    "    value='',\n",
    "    description='Dataset:',\n",
    ")\n",
    "\n",
    "pivotKeyX = widgets.Dropdown(\n",
    "    options={\n",
    "        'Negative log likelihood in low dim.': 'q_link',\n",
    "        'Negative log likelihood in high dim.': 'p_link',\n",
    "        'KL-loss': 'loss',\n",
    "        'AUC R_NX': 'auc_rnx',\n",
    "        'CorrCoef': 'pearsonr',\n",
    "        'MDS Stress': 'mds_isotonic',\n",
    "        'CCA Stress': 'cca_stress',\n",
    "        'Sammon NLM': 'sammon_nlm'\n",
    "\n",
    "    },\n",
    "    value='q_link',\n",
    "    description='Surface: ',\n",
    ")\n",
    "\n",
    "lrX = widgets.SelectionSlider(\n",
    "    options=g_df['learning_rate'].unique(),\n",
    "    value=100.0,\n",
    "    description='LR ($\\lambda$): '\n",
    ")\n",
    "\n",
    "perpX = widgets.SelectionSlider(\n",
    "    options=g_df['perplexity'].unique(),\n",
    "    value=50.0,\n",
    "    description='Perplexity: '\n",
    ")\n",
    "\n",
    "useLogXAxisX = widgets.Checkbox(\n",
    "    description='Log scale in xAxis',\n",
    "    value=False,\n",
    ")\n",
    "\n",
    "useLogYAxisX = widgets.Checkbox(\n",
    "    description='Log scale in yAxis',\n",
    "    value=False,\n",
    ")\n",
    "\n",
    "showNegativeX = widgets.Checkbox(\n",
    "    description='Negative stress func. [*]',\n",
    "    value=False,\n",
    ")\n",
    "\n",
    "showInverseX = widgets.Checkbox(\n",
    "    description='Inverse stress func. [*]',\n",
    "    value=False,\n",
    ")\n",
    "\n",
    "line1NameX = widgets.Dropdown(\n",
    "    options=g_df.columns,\n",
    "    description='Line1: '\n",
    ")\n",
    "\n",
    "line2NameX = widgets.Dropdown(\n",
    "    options=g_df.columns,\n",
    "    description='Line2: '\n",
    ")"
   ]
  },
  {
   "cell_type": "code",
   "execution_count": 25,
   "metadata": {
    "extensions": {
     "jupyter_dashboards": {
      "version": 1,
      "views": {
       "grid_default": {
        "col": null,
        "height": 31,
        "hidden": false,
        "row": 0,
        "width": null
       },
       "report_default": {
        "hidden": true
       }
      }
     }
    },
    "scrolled": false
   },
   "outputs": [
    {
     "data": {
      "application/vnd.jupyter.widget-view+json": {
       "model_id": "7ac896876893404b88eee5b83d555bc1",
       "version_major": 2,
       "version_minor": 0
      },
      "text/html": [
       "<p>Failed to display Jupyter Widget of type <code>interactive</code>.</p>\n",
       "<p>\n",
       "  If you're reading this message in the Jupyter Notebook or JupyterLab Notebook, it may mean\n",
       "  that the widgets JavaScript is still loading. If this message persists, it\n",
       "  likely means that the widgets JavaScript library is either not installed or\n",
       "  not enabled. See the <a href=\"https://ipywidgets.readthedocs.io/en/stable/user_install.html\">Jupyter\n",
       "  Widgets Documentation</a> for setup instructions.\n",
       "</p>\n",
       "<p>\n",
       "  If you're reading this message in another frontend (for example, a static\n",
       "  rendering on GitHub or <a href=\"https://nbviewer.jupyter.org/\">NBViewer</a>),\n",
       "  it may mean that your frontend doesn't currently support widgets.\n",
       "</p>\n"
      ],
      "text/plain": [
       "interactive(children=(Dropdown(description='Dataset:', options={'Select dataset': '', 'MNIST mini': 'MNIST-SMALL', 'COIL-20': 'COIL20', 'MNIST 2000 samples': 'MNIST-2000', 'Country Indicators 1999': 'COUNTRY1999', 'Country Indicators 2013': 'COUNTRY2013', 'Country Indicators 2014': 'COUNTRY2014', 'Country Indicators 2015': 'COUNTRY2015', 'Cars and Trucks 2004': 'CARS04', 'Breast Cancer Wisconsin (Diagnostic)': 'BREAST-CANCER95', 'Pima Indians Diabetes': 'DIABETES', 'Multidimensional Poverty Measures': 'MPI'}, value=''), Output()), _dom_classes=('widget-interact',))"
      ]
     },
     "metadata": {},
     "output_type": "display_data"
    }
   ],
   "source": [
    "# interactive plot\n",
    "\n",
    "@interact(dataset_name=datasetX)\n",
    "def select_dataset(dataset_name):   \n",
    "    global g_df\n",
    "    g_df = load_df(dataset_name)\n",
    "    \n",
    "    @interact(key_to_pivot=pivotKeyX)\n",
    "    def plot_surface_by_name(key_to_pivot='q_link'):\n",
    "        global g_df\n",
    "        if g_df is None: return\n",
    "\n",
    "        pivot_df = g_df[['learning_rate', 'perplexity', key_to_pivot]].pivot(\n",
    "            index='learning_rate', columns='perplexity', values=key_to_pivot)\n",
    "\n",
    "        _plot_surface(pivot_data=pivot_df, chart_title=key_to_pivot)"
   ]
  },
  {
   "cell_type": "code",
   "execution_count": 27,
   "metadata": {
    "extensions": {
     "jupyter_dashboards": {
      "version": 1,
      "views": {
       "grid_default": {
        "col": null,
        "height": 42,
        "hidden": false,
        "row": 31,
        "width": null
       },
       "report_default": {}
      }
     }
    },
    "scrolled": false
   },
   "outputs": [
    {
     "data": {
      "application/vnd.jupyter.widget-view+json": {
       "model_id": "4063ff16233247e38f42a4ec1b2ca478",
       "version_major": 2,
       "version_minor": 0
      },
      "text/html": [
       "<p>Failed to display Jupyter Widget of type <code>VBox</code>.</p>\n",
       "<p>\n",
       "  If you're reading this message in the Jupyter Notebook or JupyterLab Notebook, it may mean\n",
       "  that the widgets JavaScript is still loading. If this message persists, it\n",
       "  likely means that the widgets JavaScript library is either not installed or\n",
       "  not enabled. See the <a href=\"https://ipywidgets.readthedocs.io/en/stable/user_install.html\">Jupyter\n",
       "  Widgets Documentation</a> for setup instructions.\n",
       "</p>\n",
       "<p>\n",
       "  If you're reading this message in another frontend (for example, a static\n",
       "  rendering on GitHub or <a href=\"https://nbviewer.jupyter.org/\">NBViewer</a>),\n",
       "  it may mean that your frontend doesn't currently support widgets.\n",
       "</p>\n"
      ],
      "text/plain": [
       "VBox(children=(HBox(children=(Dropdown(description='Dataset:', index=1, options={'Select dataset': '', 'MNIST mini': 'MNIST-SMALL', 'COIL-20': 'COIL20', 'MNIST 2000 samples': 'MNIST-2000', 'Country Indicators 1999': 'COUNTRY1999', 'Country Indicators 2013': 'COUNTRY2013', 'Country Indicators 2014': 'COUNTRY2014', 'Country Indicators 2015': 'COUNTRY2015', 'Cars and Trucks 2004': 'CARS04', 'Breast Cancer Wisconsin (Diagnostic)': 'BREAST-CANCER95', 'Pima Indians Diabetes': 'DIABETES', 'Multidimensional Poverty Measures': 'MPI'}, value='MNIST-SMALL'), SelectionSlider(description='LR ($\\\\lambda$): ', index=4, options=(0.10000000000000001, 1.0, 10.0, 50.0, 100.0, 200.0, 300.0, 500.0), value=100.0), SelectionSlider(description='Perplexity: ', index=9, options=(0.10000000000000001, 0.5, 1.0, 2.0, 5.0, 10.0, 20.0, 30.0, 40.0, 50.0, 100.0, 200.0, 300.0, 400.0, 500.0, 1000.0), value=50.0))), HBox(children=(Checkbox(value=False, description='Log scale in xAxis'), Checkbox(value=False, description='Log scale in yAxis'), Checkbox(value=False, description='Inverse stress func. [*]'), Checkbox(value=False, description='Negative stress func. [*]')))))"
      ]
     },
     "metadata": {},
     "output_type": "display_data"
    },
    {
     "data": {
      "application/vnd.jupyter.widget-view+json": {
       "model_id": "40acdca7404e473ea896bf5a76ca2c86",
       "version_major": 2,
       "version_minor": 0
      },
      "text/html": [
       "<p>Failed to display Jupyter Widget of type <code>Output</code>.</p>\n",
       "<p>\n",
       "  If you're reading this message in the Jupyter Notebook or JupyterLab Notebook, it may mean\n",
       "  that the widgets JavaScript is still loading. If this message persists, it\n",
       "  likely means that the widgets JavaScript library is either not installed or\n",
       "  not enabled. See the <a href=\"https://ipywidgets.readthedocs.io/en/stable/user_install.html\">Jupyter\n",
       "  Widgets Documentation</a> for setup instructions.\n",
       "</p>\n",
       "<p>\n",
       "  If you're reading this message in another frontend (for example, a static\n",
       "  rendering on GitHub or <a href=\"https://nbviewer.jupyter.org/\">NBViewer</a>),\n",
       "  it may mean that your frontend doesn't currently support widgets.\n",
       "</p>\n"
      ],
      "text/plain": [
       "Output()"
      ]
     },
     "metadata": {},
     "output_type": "display_data"
    }
   ],
   "source": [
    "def plot_lines_by_key(dataset_name, lr, perp, use_log_x, use_log_y, show_inverse, show_neg):\n",
    "    global g_df\n",
    "    g_df = load_df(dataset_name)\n",
    "    \n",
    "    _plot_lines_by_key('learning_rate', lr, use_log_x, use_log_y, show_inverse, show_neg)\n",
    "    _plot_lines_by_key('perplexity', perp, use_log_x, use_log_y, show_inverse, show_neg)\n",
    "    \n",
    "ui = widgets.VBox([\n",
    "    widgets.HBox([datasetX, lrX, perpX]),\n",
    "    widgets.HBox([useLogXAxisX, useLogYAxisX, showInverseX, showNegativeX])\n",
    "])\n",
    "\n",
    "out = widgets.interactive_output(plot_lines_by_key, \n",
    "               {'dataset_name': datasetX,\n",
    "                'lr':lrX,\n",
    "                'perp':perpX,\n",
    "                'use_log_x': useLogXAxisX,\n",
    "                'use_log_y': useLogYAxisX,\n",
    "                'show_inverse': showInverseX,\n",
    "                'show_neg': showNegativeX})\n",
    "\n",
    "display(ui, out)"
   ]
  },
  {
   "cell_type": "code",
   "execution_count": 28,
   "metadata": {
    "collapsed": true
   },
   "outputs": [],
   "source": [
    "# plot running time and the number of iterations\n",
    "\n",
    "def _plot_runningtime(key_name, key_val):\n",
    "    global g_df\n",
    "    if g_df is None: return\n",
    "    \n",
    "    if key_name == 'perplexity':\n",
    "        df_by_key = g_df[g_df[key_name]==key_val]\n",
    "        x_data = df_by_key['learning_rate']\n",
    "    else: # learning_rate\n",
    "        df_by_key = g_df[g_df[key_name]==key_val]\n",
    "        x_data = df_by_key['perplexity']\n",
    "    \n",
    "    trace1 = go.Scatter(\n",
    "        x=x_data,\n",
    "        y=df_by_key['running_time'],\n",
    "        name='Runnning time'\n",
    "    )\n",
    "    trace2 = go.Bar(\n",
    "        x=x_data,\n",
    "        y=df_by_key['n_iter'],\n",
    "        name='# of iterations',\n",
    "        yaxis='y2'\n",
    "    )\n",
    "    data = [trace1, trace2]\n",
    "    layout = go.Layout(\n",
    "        title='Running time and number of iterations [{} = {}]'.format(key_name, key_val),\n",
    "        xaxis = dict(title = '{}'.format('Learning rate' if key_name == 'perplexity' else 'Perplexity')),\n",
    "        yaxis=dict(\n",
    "            title='Running time (s)'\n",
    "        ),\n",
    "        yaxis2=dict(\n",
    "            title='Number of iterations',\n",
    "            titlefont=dict(\n",
    "                color='orange'\n",
    "            ),\n",
    "            tickfont=dict(\n",
    "                color='orange'\n",
    "            ),\n",
    "            overlaying='y',\n",
    "            side='right'\n",
    "        ),\n",
    "        legend=dict(orientation=\"h\"),\n",
    "        autosize=False\n",
    "    )\n",
    "    fig = go.Figure(data=data, layout=layout)\n",
    "    iplot(fig)"
   ]
  },
  {
   "cell_type": "code",
   "execution_count": 15,
   "metadata": {},
   "outputs": [
    {
     "data": {
      "application/vnd.jupyter.widget-view+json": {
       "model_id": "b17a0b7b2cc242738bbcdc556ca924e1",
       "version_major": 2,
       "version_minor": 0
      },
      "text/html": [
       "<p>Failed to display Jupyter Widget of type <code>VBox</code>.</p>\n",
       "<p>\n",
       "  If you're reading this message in the Jupyter Notebook or JupyterLab Notebook, it may mean\n",
       "  that the widgets JavaScript is still loading. If this message persists, it\n",
       "  likely means that the widgets JavaScript library is either not installed or\n",
       "  not enabled. See the <a href=\"https://ipywidgets.readthedocs.io/en/stable/user_install.html\">Jupyter\n",
       "  Widgets Documentation</a> for setup instructions.\n",
       "</p>\n",
       "<p>\n",
       "  If you're reading this message in another frontend (for example, a static\n",
       "  rendering on GitHub or <a href=\"https://nbviewer.jupyter.org/\">NBViewer</a>),\n",
       "  it may mean that your frontend doesn't currently support widgets.\n",
       "</p>\n"
      ],
      "text/plain": [
       "VBox(children=(HBox(children=(Dropdown(description='Dataset:', index=1, options={'Select dataset': '', 'MNIST mini': 'MNIST-SMALL', 'COIL-20': 'COIL20', 'MNIST 2000 samples': 'MNIST-2000', 'Country Indicators 1999': 'COUNTRY1999', 'Country Indicators 2013': 'COUNTRY2013', 'Country Indicators 2014': 'COUNTRY2014', 'Country Indicators 2015': 'COUNTRY2015', 'Cars and Trucks 2004': 'CARS04', 'Breast Cancer Wisconsin (Diagnostic)': 'BREAST-CANCER95', 'Pima Indians Diabetes': 'DIABETES', 'Multidimensional Poverty Measures': 'MPI'}, value='MNIST-SMALL'), SelectionSlider(description='LR ($\\\\lambda$): ', index=4, options=(0.10000000000000001, 1.0, 10.0, 50.0, 100.0, 200.0, 300.0, 500.0), value=100.0), SelectionSlider(description='Perplexity: ', index=9, options=(0.10000000000000001, 0.5, 1.0, 2.0, 5.0, 10.0, 20.0, 30.0, 40.0, 50.0, 100.0, 200.0, 300.0, 400.0, 500.0, 1000.0), value=50.0))),))"
      ]
     },
     "metadata": {},
     "output_type": "display_data"
    },
    {
     "data": {
      "application/vnd.jupyter.widget-view+json": {
       "model_id": "388f0f3dd26a4e4e91e2c08d9cc858fb",
       "version_major": 2,
       "version_minor": 0
      },
      "text/html": [
       "<p>Failed to display Jupyter Widget of type <code>Output</code>.</p>\n",
       "<p>\n",
       "  If you're reading this message in the Jupyter Notebook or JupyterLab Notebook, it may mean\n",
       "  that the widgets JavaScript is still loading. If this message persists, it\n",
       "  likely means that the widgets JavaScript library is either not installed or\n",
       "  not enabled. See the <a href=\"https://ipywidgets.readthedocs.io/en/stable/user_install.html\">Jupyter\n",
       "  Widgets Documentation</a> for setup instructions.\n",
       "</p>\n",
       "<p>\n",
       "  If you're reading this message in another frontend (for example, a static\n",
       "  rendering on GitHub or <a href=\"https://nbviewer.jupyter.org/\">NBViewer</a>),\n",
       "  it may mean that your frontend doesn't currently support widgets.\n",
       "</p>\n"
      ],
      "text/plain": [
       "Output()"
      ]
     },
     "metadata": {},
     "output_type": "display_data"
    }
   ],
   "source": [
    "def plot_runningtime(dataset_name, lr, perp):\n",
    "    global g_df\n",
    "    g_df = load_df(dataset_name)\n",
    "    \n",
    "    _plot_runningtime('learning_rate', lr)\n",
    "    _plot_runningtime('perplexity', perp)\n",
    "    \n",
    "ui2 = widgets.VBox([\n",
    "    widgets.HBox([datasetX, lrX, perpX]),\n",
    "])\n",
    "\n",
    "out2 = widgets.interactive_output(plot_runningtime, \n",
    "               {'dataset_name': datasetX,\n",
    "                'lr':lrX,\n",
    "                'perp':perpX})\n",
    "\n",
    "display(ui2, out2)"
   ]
  },
  {
   "cell_type": "code",
   "execution_count": 16,
   "metadata": {},
   "outputs": [],
   "source": [
    "# compare two lines in the same graph\n",
    "# fix learning_rate, because it does not influence too much the final result\n",
    "\n",
    "def _plot_two_lines(line1_name, line2_name, use_log_x, use_log_y, show_inverse, show_neg, lr=100.0):\n",
    "    global g_df\n",
    "    if g_df is None: return\n",
    "    \n",
    "    _inverse = lambda y: np.divide(1.0, y, out=np.zeros_like(y), where=(y != 0))\n",
    "    \n",
    "    df_by_key = g_df[g_df['learning_rate']==lr]\n",
    "    \n",
    "    x_data = df_by_key['perplexity'] if not use_log_x else np.log(df_by_key['perplexity'])\n",
    "    y1_data = df_by_key[line1_name] if not use_log_y else np.log(df_by_key[line1_name])\n",
    "    y2_data = df_by_key[line2_name] if not use_log_y else np.log(df_by_key[line2_name])\n",
    "    \n",
    "    if show_inverse:\n",
    "        # y1_data = _inverse(y1_data)\n",
    "        y2_data = _inverse(y2_data)\n",
    "        \n",
    "    if show_neg:\n",
    "        # y1_data = - y1_data\n",
    "        y2_data = - y2_data\n",
    "    \n",
    "    trace1 = go.Scatter(\n",
    "        x=x_data,\n",
    "        y=y1_data,\n",
    "        name=line1_name\n",
    "    )\n",
    "    trace2 = go.Scatter(\n",
    "        x=x_data,\n",
    "        y=y2_data,\n",
    "        name=line2_name,\n",
    "        yaxis='y2'\n",
    "    )\n",
    "    data = [trace1, trace2]\n",
    "    layout = go.Layout(\n",
    "        title='Compare the shape of {} and {} [learning_rate = {}]'.format(line1_name, line2_name, lr),\n",
    "        xaxis = dict(title = '{} Perplexity'.format( 'Log of ' if use_log_x else '')),\n",
    "        yaxis=dict(\n",
    "            title=line1_name\n",
    "        ),\n",
    "        yaxis2=dict(\n",
    "            title=line2_name,\n",
    "            titlefont=dict(\n",
    "                color='orange'\n",
    "            ),\n",
    "            tickfont=dict(\n",
    "                color='orange'\n",
    "            ),\n",
    "            overlaying='y',\n",
    "            side='right'\n",
    "        ),\n",
    "        legend=dict(orientation=\"h\"),\n",
    "        autosize=False\n",
    "    )\n",
    "    fig = go.Figure(data=data, layout=layout)\n",
    "    print(\"[*] Inverse function and Negative function are applied only for the `Line2`\")\n",
    "    iplot(fig)"
   ]
  },
  {
   "cell_type": "code",
   "execution_count": 17,
   "metadata": {},
   "outputs": [
    {
     "data": {
      "application/vnd.jupyter.widget-view+json": {
       "model_id": "661e485a138b41488499322b6b2d4346",
       "version_major": 2,
       "version_minor": 0
      },
      "text/html": [
       "<p>Failed to display Jupyter Widget of type <code>VBox</code>.</p>\n",
       "<p>\n",
       "  If you're reading this message in the Jupyter Notebook or JupyterLab Notebook, it may mean\n",
       "  that the widgets JavaScript is still loading. If this message persists, it\n",
       "  likely means that the widgets JavaScript library is either not installed or\n",
       "  not enabled. See the <a href=\"https://ipywidgets.readthedocs.io/en/stable/user_install.html\">Jupyter\n",
       "  Widgets Documentation</a> for setup instructions.\n",
       "</p>\n",
       "<p>\n",
       "  If you're reading this message in another frontend (for example, a static\n",
       "  rendering on GitHub or <a href=\"https://nbviewer.jupyter.org/\">NBViewer</a>),\n",
       "  it may mean that your frontend doesn't currently support widgets.\n",
       "</p>\n"
      ],
      "text/plain": [
       "VBox(children=(HBox(children=(Dropdown(description='Dataset:', index=1, options={'Select dataset': '', 'MNIST mini': 'MNIST-SMALL', 'COIL-20': 'COIL20', 'MNIST 2000 samples': 'MNIST-2000', 'Country Indicators 1999': 'COUNTRY1999', 'Country Indicators 2013': 'COUNTRY2013', 'Country Indicators 2014': 'COUNTRY2014', 'Country Indicators 2015': 'COUNTRY2015', 'Cars and Trucks 2004': 'CARS04', 'Breast Cancer Wisconsin (Diagnostic)': 'BREAST-CANCER95', 'Pima Indians Diabetes': 'DIABETES', 'Multidimensional Poverty Measures': 'MPI'}, value='MNIST-SMALL'), Dropdown(description='Line1: ', options=('auc_rnx', 'cca_stress', 'learning_rate', 'loss', 'mds_isotonic', 'n_iter', 'p_cl', 'p_link', 'p_ml', 'pearsonr', 'perplexity', 'q_cl', 'q_link', 'q_ml', 'running_time', 'sammon_nlm'), value='auc_rnx'), Dropdown(description='Line2: ', options=('auc_rnx', 'cca_stress', 'learning_rate', 'loss', 'mds_isotonic', 'n_iter', 'p_cl', 'p_link', 'p_ml', 'pearsonr', 'perplexity', 'q_cl', 'q_link', 'q_ml', 'running_time', 'sammon_nlm'), value='auc_rnx'))), HBox(children=(Checkbox(value=False, description='Log scale in xAxis'), Checkbox(value=False, description='Log scale in yAxis'), Checkbox(value=False, description='Inverse stress func. [*]'), Checkbox(value=True, description='Negative stress func. [*]')))))"
      ]
     },
     "metadata": {},
     "output_type": "display_data"
    },
    {
     "data": {
      "application/vnd.jupyter.widget-view+json": {
       "model_id": "9d28dd493a8d41aebf614d50898ae96a",
       "version_major": 2,
       "version_minor": 0
      },
      "text/html": [
       "<p>Failed to display Jupyter Widget of type <code>Output</code>.</p>\n",
       "<p>\n",
       "  If you're reading this message in the Jupyter Notebook or JupyterLab Notebook, it may mean\n",
       "  that the widgets JavaScript is still loading. If this message persists, it\n",
       "  likely means that the widgets JavaScript library is either not installed or\n",
       "  not enabled. See the <a href=\"https://ipywidgets.readthedocs.io/en/stable/user_install.html\">Jupyter\n",
       "  Widgets Documentation</a> for setup instructions.\n",
       "</p>\n",
       "<p>\n",
       "  If you're reading this message in another frontend (for example, a static\n",
       "  rendering on GitHub or <a href=\"https://nbviewer.jupyter.org/\">NBViewer</a>),\n",
       "  it may mean that your frontend doesn't currently support widgets.\n",
       "</p>\n"
      ],
      "text/plain": [
       "Output()"
      ]
     },
     "metadata": {},
     "output_type": "display_data"
    }
   ],
   "source": [
    "def plot_two_lines(dataset_name, line1_name, line2_name, use_log_x, use_log_y, show_inverse, show_neg):\n",
    "    global g_df\n",
    "    g_df = load_df(dataset_name)\n",
    "    \n",
    "    _plot_two_lines(line1_name, line2_name, use_log_x, use_log_y, show_inverse, show_neg, lr=100.0)\n",
    "    \n",
    "ui3 = widgets.VBox([\n",
    "    widgets.HBox([datasetX, line1NameX, line2NameX]),\n",
    "    widgets.HBox([useLogXAxisX, useLogYAxisX, showInverseX, showNegativeX]),\n",
    "])\n",
    "\n",
    "out3 = widgets.interactive_output(plot_two_lines, {\n",
    "    'dataset_name': datasetX,\n",
    "    'line1_name': line1NameX,\n",
    "    'line2_name': line2NameX,\n",
    "    'use_log_x': useLogXAxisX,\n",
    "    'use_log_y': useLogYAxisX,\n",
    "    'show_inverse': showInverseX,\n",
    "    'show_neg': showNegativeX\n",
    "})\n",
    "\n",
    "display(ui3, out3)"
   ]
  },
  {
   "cell_type": "code",
   "execution_count": 29,
   "metadata": {},
   "outputs": [
    {
     "data": {
      "application/vnd.jupyter.widget-view+json": {
       "model_id": "183771c2cf544d189f25266b1f01a12c",
       "version_major": 2,
       "version_minor": 0
      },
      "text/html": [
       "<p>Failed to display Jupyter Widget of type <code>interactive</code>.</p>\n",
       "<p>\n",
       "  If you're reading this message in the Jupyter Notebook or JupyterLab Notebook, it may mean\n",
       "  that the widgets JavaScript is still loading. If this message persists, it\n",
       "  likely means that the widgets JavaScript library is either not installed or\n",
       "  not enabled. See the <a href=\"https://ipywidgets.readthedocs.io/en/stable/user_install.html\">Jupyter\n",
       "  Widgets Documentation</a> for setup instructions.\n",
       "</p>\n",
       "<p>\n",
       "  If you're reading this message in another frontend (for example, a static\n",
       "  rendering on GitHub or <a href=\"https://nbviewer.jupyter.org/\">NBViewer</a>),\n",
       "  it may mean that your frontend doesn't currently support widgets.\n",
       "</p>\n"
      ],
      "text/plain": [
       "interactive(children=(Dropdown(description='Dataset:', index=1, options={'Select dataset': '', 'MNIST mini': 'MNIST-SMALL', 'COIL-20': 'COIL20', 'MNIST 2000 samples': 'MNIST-2000', 'Country Indicators 1999': 'COUNTRY1999', 'Country Indicators 2013': 'COUNTRY2013', 'Country Indicators 2014': 'COUNTRY2014', 'Country Indicators 2015': 'COUNTRY2015', 'Cars and Trucks 2004': 'CARS04', 'Breast Cancer Wisconsin (Diagnostic)': 'BREAST-CANCER95', 'Pima Indians Diabetes': 'DIABETES', 'Multidimensional Poverty Measures': 'MPI'}, value='MNIST-SMALL'), Output()), _dom_classes=('widget-interact',))"
      ]
     },
     "metadata": {},
     "output_type": "display_data"
    }
   ],
   "source": [
    "@interact(dataset_name=datasetX)\n",
    "def plot_scatter(dataset_name):\n",
    "    if dataset_name == \"\": return\n",
    "    \n",
    "    in_name = '{}/tsne_{}.pkl'.format(data_folder, dataset_name)\n",
    "    pkl_data = pickle.load(open(in_name, 'rb'))\n",
    "    embeddeds = pkl_data['results']\n",
    "    mustlinks = pkl_data['mustlinks']\n",
    "    cannotlinks = pkl_data['cannotlinnks']\n",
    "    target_labels = pkl_data['target']\n",
    "    \n",
    "    @interact(lr=lrX, perp=perpX)\n",
    "    def _plot_scatter(lr, perp):\n",
    "        target = next((item for item in embeddeds if item['learning_rate'] == lr and item['perplexity'] == perp))\n",
    "        X_embedded = target['embedding']\n",
    "        \n",
    "        trace1 = go.Scattergl(\n",
    "            x = X_embedded[:,0],\n",
    "            y = X_embedded[:,1],\n",
    "            mode='markers',\n",
    "            marker=dict(\n",
    "                size='6',\n",
    "                color = target_labels,\n",
    "                colorscale='Viridis',\n",
    "                showscale=True\n",
    "            )\n",
    "        )\n",
    "        layout = go.Layout(\n",
    "            autosize=False,\n",
    "            width=600,\n",
    "            height=600,\n",
    "            xaxis=dict(\n",
    "                autorange=True,\n",
    "                showgrid=False,\n",
    "                zeroline=False,\n",
    "                showline=False,\n",
    "                autotick=True,\n",
    "                ticks='',\n",
    "                showticklabels=False\n",
    "            ),\n",
    "            yaxis=dict(\n",
    "                autorange=True,\n",
    "                showgrid=False,\n",
    "                zeroline=False,\n",
    "                showline=False,\n",
    "                autotick=True,\n",
    "                ticks='',\n",
    "                showticklabels=True\n",
    "            )\n",
    "        )\n",
    "        fig = go.Figure(data=[trace1], layout=layout)\n",
    "        iplot(fig)"
   ]
  },
  {
   "cell_type": "code",
   "execution_count": null,
   "metadata": {},
   "outputs": [],
   "source": []
  }
 ],
 "metadata": {
  "extensions": {
   "jupyter_dashboards": {
    "activeView": "grid_default",
    "version": 1,
    "views": {
     "grid_default": {
      "cellMargin": 10,
      "defaultCellHeight": 20,
      "maxColumns": 12,
      "name": "grid",
      "type": "grid"
     },
     "report_default": {
      "name": "report",
      "type": "report"
     }
    }
   }
  },
  "kernelspec": {
   "display_name": "Python 3",
   "language": "python",
   "name": "python3"
  },
  "language_info": {
   "codemirror_mode": {
    "name": "ipython",
    "version": 3
   },
   "file_extension": ".py",
   "mimetype": "text/x-python",
   "name": "python",
   "nbconvert_exporter": "python",
   "pygments_lexer": "ipython3",
   "version": "3.6.4"
  }
 },
 "nbformat": 4,
 "nbformat_minor": 2
}
